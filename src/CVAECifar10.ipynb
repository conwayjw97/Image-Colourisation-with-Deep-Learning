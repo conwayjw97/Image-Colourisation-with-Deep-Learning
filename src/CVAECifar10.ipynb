{
  "nbformat": 4,
  "nbformat_minor": 0,
  "metadata": {
    "colab": {
      "name": "CVAECifar10.ipynb",
      "provenance": [],
      "collapsed_sections": [],
      "machine_shape": "hm",
      "include_colab_link": true
    },
    "kernelspec": {
      "name": "python3",
      "display_name": "Python 3"
    },
    "accelerator": "GPU"
  },
  "cells": [
    {
      "cell_type": "markdown",
      "metadata": {
        "id": "view-in-github",
        "colab_type": "text"
      },
      "source": [
        "<a href=\"https://colab.research.google.com/github/conwayjw97/Image-Colourisation/blob/master/src/CVAECifar10.ipynb\" target=\"_parent\"><img src=\"https://colab.research.google.com/assets/colab-badge.svg\" alt=\"Open In Colab\"/></a>"
      ]
    },
    {
      "cell_type": "markdown",
      "metadata": {
        "id": "wc7f9oUxbhDn",
        "colab_type": "text"
      },
      "source": [
        "# Global Variables"
      ]
    },
    {
      "cell_type": "code",
      "metadata": {
        "id": "GOxW6goCbgnx",
        "colab_type": "code",
        "colab": {}
      },
      "source": [
        "IMAGE_COUNT = 50000\n",
        "TRAINING_IMAGE = 0\n",
        "TEST_IMAGE = 0\n",
        "BATCH_SIZE = 1000\n",
        "CLASSIFICATION_EPOCHS = 1000\n",
        "COLOURISATION_EPOCHS = 1000\n",
        "LOAD_COLOURISATION_MODEL = False\n",
        "INPUT_IMAGE = 10"
      ],
      "execution_count": 0,
      "outputs": []
    },
    {
      "cell_type": "markdown",
      "metadata": {
        "id": "eeMNZF0P1Ter",
        "colab_type": "text"
      },
      "source": [
        "# Import Statements"
      ]
    },
    {
      "cell_type": "code",
      "metadata": {
        "id": "Zp0eWDHK1SZM",
        "colab_type": "code",
        "outputId": "21e10c3f-7cb6-43e8-c2e7-ef0cd12e855b",
        "colab": {
          "base_uri": "https://localhost:8080/",
          "height": 34
        }
      },
      "source": [
        "from __future__ import absolute_import, division, print_function, unicode_literals\n",
        "try:\n",
        "  # %tensorflow_version only exists in Colab.\n",
        "  %tensorflow_version 2.x\n",
        "except Exception:\n",
        "  pass\n",
        "\n",
        "#%load_ext tensorboard\n",
        "\n",
        "import tensorflow as tf\n",
        "import datetime, os\n",
        "import matplotlib.pyplot as plt\n",
        "import numpy as np\n",
        "import math\n",
        "import time\n",
        "from scipy.ndimage.filters import gaussian_filter1d\n",
        "from tensorflow.keras import datasets, layers, models, backend, utils, optimizers, regularizers\n",
        "from tensorflow.keras.preprocessing.image import ImageDataGenerator\n",
        "from google.colab import drive, files\n",
        "\n",
        "drive.mount(\"/content/gdrive\", force_remount=True)\n",
        "base_dir = \"/content/gdrive/My Drive/DeterministicConvNetCifar10/\""
      ],
      "execution_count": 14,
      "outputs": [
        {
          "output_type": "stream",
          "text": [
            "Mounted at /content/gdrive\n"
          ],
          "name": "stdout"
        }
      ]
    },
    {
      "cell_type": "markdown",
      "metadata": {
        "id": "yefjUKIW1bID",
        "colab_type": "text"
      },
      "source": [
        "# Load Dataset"
      ]
    },
    {
      "cell_type": "code",
      "metadata": {
        "id": "3fL4xz021ahD",
        "colab_type": "code",
        "colab": {}
      },
      "source": [
        "(train_images, train_labels), (test_images, test_labels) = datasets.cifar10.load_data()\n",
        "train_images = train_images / 255.0\n",
        "test_images = test_images / 255.0"
      ],
      "execution_count": 0,
      "outputs": []
    },
    {
      "cell_type": "markdown",
      "metadata": {
        "id": "3HRiS8WTYj0Z",
        "colab_type": "text"
      },
      "source": [
        "# Convert Classification Images to Grayscale"
      ]
    },
    {
      "cell_type": "code",
      "metadata": {
        "id": "9MF98m-RYm59",
        "colab_type": "code",
        "colab": {}
      },
      "source": [
        "train_gray_images = tf.image.rgb_to_grayscale(train_images[:IMAGE_COUNT])\n",
        "test_gray_images = tf.image.rgb_to_grayscale(test_images[:IMAGE_COUNT])"
      ],
      "execution_count": 0,
      "outputs": []
    },
    {
      "cell_type": "markdown",
      "metadata": {
        "id": "NsX83fx9RQDd",
        "colab_type": "text"
      },
      "source": [
        "# Load the Classification Model"
      ]
    },
    {
      "cell_type": "code",
      "metadata": {
        "id": "HnNteISdRTn_",
        "colab_type": "code",
        "outputId": "47ea4262-015e-47fe-d06b-40f38115e197",
        "colab": {
          "base_uri": "https://localhost:8080/",
          "height": 34
        }
      },
      "source": [
        "model_dir = os.path.dirname(base_dir + \"classification.h5\")\n",
        "\n",
        "json_file = open(base_dir + \"classification.json\", 'r')\n",
        "loaded_model_json = json_file.read()\n",
        "json_file.close()\n",
        "classification_model = models.model_from_json(loaded_model_json)\n",
        "classification_model.load_weights(base_dir + \"classification.h5\", by_name=False)\n",
        "\n",
        "opt = optimizers.SGD(lr=0.001, momentum=0.9)\n",
        "classification_model.compile(optimizer=opt, loss='categorical_crossentropy', metrics=['accuracy'])\n",
        "\n",
        "print(\"Loaded model from disk\")"
      ],
      "execution_count": 17,
      "outputs": [
        {
          "output_type": "stream",
          "text": [
            "Loaded model from disk\n"
          ],
          "name": "stdout"
        }
      ]
    },
    {
      "cell_type": "markdown",
      "metadata": {
        "id": "MTQBW1inUbVy",
        "colab_type": "text"
      },
      "source": [
        "# Classification Results"
      ]
    },
    {
      "cell_type": "code",
      "metadata": {
        "id": "Ym93lYrLUfSe",
        "colab_type": "code",
        "outputId": "85c3b6f6-1841-4309-9f80-b0546e4e36ad",
        "colab": {
          "base_uri": "https://localhost:8080/",
          "height": 217
        }
      },
      "source": [
        "image_labels = [\"airplane\", \"automobile\", \"bird\", \"cat\", \"deer\", \"dog\", \"frog\", \"horse\", \"ship\", \"truck\"]\n",
        "\n",
        "output_count = 12\n",
        "\n",
        "fig = plt.figure(figsize=(39,39))\n",
        "for i in range(output_count):\n",
        "  result = classification_model.predict_classes(tf.expand_dims(test_gray_images[i], 0))\n",
        "  fig.add_subplot(1,output_count,i+1)\n",
        "  plt.title(image_labels[int(result)])\n",
        "  plt.imshow(tf.image.grayscale_to_rgb(test_gray_images[i]))"
      ],
      "execution_count": 18,
      "outputs": [
        {
          "output_type": "display_data",
          "data": {
            "image/png": "[encoded data removed]",
            "text/plain": [
              "<Figure size 2808x2808 with 12 Axes>"
            ]
          },
          "metadata": {
            "tags": []
          }
        }
      ]
    },
    {
      "cell_type": "markdown",
      "metadata": {
        "id": "uNblIuG3qSG6",
        "colab_type": "text"
      },
      "source": [
        "# Evaluate Image Class"
      ]
    },
    {
      "cell_type": "code",
      "metadata": {
        "id": "SJUcR_14qbfJ",
        "colab_type": "code",
        "outputId": "0f8afe6c-76d5-4a63-be88-8746bbb2f913",
        "colab": {
          "base_uri": "https://localhost:8080/",
          "height": 516
        }
      },
      "source": [
        "result = classification_model.predict_classes(tf.expand_dims(test_gray_images[INPUT_IMAGE], 0))\n",
        "print(\"Predicted image class:\", result, \"-\", image_labels[int(result)])\n",
        "fig = plt.figure(figsize=(8,8))\n",
        "plt.title(image_labels[int(result)])\n",
        "plt.imshow(tf.image.grayscale_to_rgb(test_gray_images[INPUT_IMAGE]))\n",
        "\n",
        "class_train_indices = np.argwhere(train_labels == result)\n",
        "class_train_images = train_images[class_train_indices[:,0]]\n",
        "class_test_indices = np.argwhere(test_labels == result)\n",
        "class_test_images = test_images[class_test_indices[:,0]]"
      ],
      "execution_count": 19,
      "outputs": [
        {
          "output_type": "stream",
          "text": [
            "Predicted image class: [0] - airplane\n"
          ],
          "name": "stdout"
        },
        {
          "output_type": "display_data",
          "data": {
            "image/png": "[encoded data removed]",
            "text/plain": [
              "<Figure size 576x576 with 1 Axes>"
            ]
          },
          "metadata": {
            "tags": []
          }
        }
      ]
    },
    {
      "cell_type": "markdown",
      "metadata": {
        "id": "FJvz9yQW1dm6",
        "colab_type": "text"
      },
      "source": [
        "# Convert Colourisation Images to YUV"
      ]
    },
    {
      "cell_type": "code",
      "metadata": {
        "id": "bq6UIAUp1fQz",
        "colab_type": "code",
        "colab": {}
      },
      "source": [
        "# Outputs a tensor of the same shape as the images tensor, containing the YUV \n",
        "# value of the pixels. The output is only well defined if the value in images \n",
        "# are in [0,1].\n",
        "#https://zhengtq.github.io/2018/12/27/tensorflow-disturb-yuv/\n",
        "\n",
        "train_yuvImages = tf.image.rgb_to_yuv(class_train_images[:IMAGE_COUNT])\n",
        "train_y = tf.expand_dims(train_yuvImages[:,:,:,0], 3)\n",
        "train_uv = train_yuvImages[:,:,:,1:]\n",
        "\n",
        "test_yuvImages = tf.image.rgb_to_yuv(class_test_images[:IMAGE_COUNT])\n",
        "test_y = tf.expand_dims(test_yuvImages[:,:,:,0], 3)\n",
        "test_uv = test_yuvImages[:,:,:,1:]"
      ],
      "execution_count": 0,
      "outputs": []
    },
    {
      "cell_type": "markdown",
      "metadata": {
        "id": "1K8l_8WLhWEN",
        "colab_type": "text"
      },
      "source": [
        "# Create the VAE Network"
      ]
    },
    {
      "cell_type": "code",
      "metadata": {
        "id": "11HMioGP4Yy-",
        "colab_type": "code",
        "outputId": "26f3768f-efd4-430a-fb23-5226acd6f457",
        "colab": {
          "base_uri": "https://localhost:8080/",
          "height": 642
        }
      },
      "source": [
        "latent_dim = 50\n",
        "\n",
        "def create_colourisation_encoder():\n",
        "  model = models.Sequential()\n",
        "  model.add(layers.Conv2D(32, (3, 3), activation='relu', padding='same', strides=2, input_shape=(train_uv.shape[1], train_uv.shape[2], 1)))\n",
        "  model.add(layers.Conv2D(64, (3, 3), activation='relu', padding='same', strides=2))\n",
        "  model.add(layers.Flatten())\n",
        "  model.add(layers.Dense(latent_dim + latent_dim))\n",
        "  return model\n",
        "\n",
        "create_colourisation_encoder().summary()\n",
        "\n",
        "def create_colourisation_decoder():\n",
        "  model = models.Sequential()\n",
        "  model.add(layers.InputLayer(input_shape=(latent_dim,)))\n",
        "  model.add(layers.Dense(8, activation=tf.nn.relu))\n",
        "  model.add(layers.Reshape((2, 2, 2)))\n",
        "  model.add(layers.Conv2DTranspose(64, (3, 3), activation='relu', padding='same', strides=2))\n",
        "  model.add(layers.Conv2DTranspose(32, (3, 3), activation='relu', padding='same', strides=2))\n",
        "  model.add(layers.Conv2DTranspose(16, (3, 3), activation='relu', padding='same', strides=2))\n",
        "  model.add(layers.Conv2DTranspose(2, (3, 3), padding='same', strides=2))\n",
        "  # opt = optimizers.RMSprop(lr=0.0001, momentum=0.0)\n",
        "  # model.compile(optimizer=opt, loss='mse')\n",
        "  return model\n",
        "\n",
        "create_colourisation_decoder().summary()"
      ],
      "execution_count": 21,
      "outputs": [
        {
          "output_type": "stream",
          "text": [
            "Model: \"sequential_4\"\n",
            "_________________________________________________________________\n",
            "Layer (type)                 Output Shape              Param #   \n",
            "=================================================================\n",
            "conv2d_4 (Conv2D)            (None, 16, 16, 32)        320       \n",
            "_________________________________________________________________\n",
            "conv2d_5 (Conv2D)            (None, 8, 8, 64)          18496     \n",
            "_________________________________________________________________\n",
            "flatten_2 (Flatten)          (None, 4096)              0         \n",
            "_________________________________________________________________\n",
            "dense_4 (Dense)              (None, 100)               409700    \n",
            "=================================================================\n",
            "Total params: 428,516\n",
            "Trainable params: 428,516\n",
            "Non-trainable params: 0\n",
            "_________________________________________________________________\n",
            "Model: \"sequential_5\"\n",
            "_________________________________________________________________\n",
            "Layer (type)                 Output Shape              Param #   \n",
            "=================================================================\n",
            "dense_5 (Dense)              (None, 8)                 408       \n",
            "_________________________________________________________________\n",
            "reshape_2 (Reshape)          (None, 2, 2, 2)           0         \n",
            "_________________________________________________________________\n",
            "conv2d_transpose_9 (Conv2DTr (None, 4, 4, 64)          1216      \n",
            "_________________________________________________________________\n",
            "conv2d_transpose_10 (Conv2DT (None, 8, 8, 32)          18464     \n",
            "_________________________________________________________________\n",
            "conv2d_transpose_11 (Conv2DT (None, 16, 16, 16)        4624      \n",
            "_________________________________________________________________\n",
            "conv2d_transpose_12 (Conv2DT (None, 32, 32, 2)         290       \n",
            "=================================================================\n",
            "Total params: 25,002\n",
            "Trainable params: 25,002\n",
            "Non-trainable params: 0\n",
            "_________________________________________________________________\n"
          ],
          "name": "stdout"
        }
      ]
    },
    {
      "cell_type": "code",
      "metadata": {
        "id": "zKkLv8I9hZwG",
        "colab_type": "code",
        "colab": {}
      },
      "source": [
        "\n",
        "\n",
        "class CVAE(tf.keras.Model):\n",
        "  def __init__(self, latent_dim):\n",
        "    super(CVAE, self).__init__()\n",
        "    self.latent_dim = latent_dim\n",
        "    self.inference_net = tf.keras.Sequential(\n",
        "      [\n",
        "          tf.keras.layers.InputLayer(input_shape=(32, 32, 2)),\n",
        "          tf.keras.layers.Conv2D(\n",
        "              filters=32, kernel_size=3, strides=(2, 2), activation='relu'),\n",
        "          tf.keras.layers.Conv2D(\n",
        "              filters=64, kernel_size=3, strides=(2, 2), activation='relu'),\n",
        "          tf.keras.layers.Flatten(),\n",
        "          # No activation\n",
        "          tf.keras.layers.Dense(latent_dim + latent_dim),\n",
        "      ]\n",
        "    )\n",
        "\n",
        "    self.generative_net = tf.keras.Sequential(\n",
        "        [\n",
        "          tf.keras.layers.InputLayer(input_shape=(latent_dim,)),\n",
        "          tf.keras.layers.Dense(units=8, activation=tf.nn.relu),\n",
        "          tf.keras.layers.Reshape(target_shape=(2, 2, 2)),\n",
        "          tf.keras.layers.Conv2DTranspose(\n",
        "              filters=64,\n",
        "              kernel_size=3,\n",
        "              strides=(2, 2),\n",
        "              padding=\"SAME\",\n",
        "              activation='relu'),\n",
        "          tf.keras.layers.Conv2DTranspose(\n",
        "              filters=32,\n",
        "              kernel_size=3,\n",
        "              strides=(2, 2),\n",
        "              padding=\"SAME\",\n",
        "              activation='relu'),\n",
        "         tf.keras.layers.Conv2DTranspose(\n",
        "              filters=16,\n",
        "              kernel_size=3,\n",
        "              strides=(2, 2),\n",
        "              padding=\"SAME\",\n",
        "              activation='relu'),\n",
        "         tf.keras.layers.Conv2DTranspose(\n",
        "              filters=8,\n",
        "              kernel_size=3,\n",
        "              strides=(2, 2),\n",
        "              padding=\"SAME\",\n",
        "              activation='relu'),\n",
        "          # No activation\n",
        "          tf.keras.layers.Conv2DTranspose(\n",
        "              filters=2, kernel_size=3, strides=(1, 1), padding=\"SAME\"),\n",
        "        ]\n",
        "    )\n",
        "\n",
        "  @tf.function\n",
        "  def sample(self, eps=None):\n",
        "    if eps is None:\n",
        "      eps = tf.random.normal(shape=(100, self.latent_dim))\n",
        "    return self.decode(eps, apply_sigmoid=True)\n",
        "\n",
        "  def encode(self, x):\n",
        "    mean, logvar = tf.split(self.inference_net(x), num_or_size_splits=2, axis=1)\n",
        "    return mean, logvar\n",
        "\n",
        "  def reparameterize(self, mean, logvar):\n",
        "    eps = tf.random.normal(shape=mean.shape)\n",
        "    return eps * tf.exp(logvar * .5) + mean\n",
        "\n",
        "  def decode(self, z, apply_sigmoid=False):\n",
        "    logits = self.generative_net(z)\n",
        "    if apply_sigmoid:\n",
        "      probs = tf.sigmoid(logits)\n",
        "      return probs\n",
        "    return logits"
      ],
      "execution_count": 0,
      "outputs": []
    },
    {
      "cell_type": "markdown",
      "metadata": {
        "id": "F5SrDEESp9-4",
        "colab_type": "text"
      },
      "source": [
        "# Define Loss Function and Optimiser"
      ]
    },
    {
      "cell_type": "code",
      "metadata": {
        "id": "El0i0pjXqBbZ",
        "colab_type": "code",
        "colab": {}
      },
      "source": [
        "optimizer = optimizers.Adam(1e-4)\n",
        "\n",
        "def log_normal_pdf(sample, mean, logvar, raxis=1):\n",
        "  log2pi = tf.math.log(2. * np.pi)\n",
        "  return tf.reduce_sum(-.5 * ((sample - mean) ** 2. * tf.exp(-logvar) + logvar + log2pi), axis=raxis)\n",
        "\n",
        "@tf.function\n",
        "def compute_loss(model, x):\n",
        "  mean, logvar = model.encode(x)\n",
        "  z = model.reparameterize(mean, logvar)\n",
        "  x_logit = model.decode(z)\n",
        "\n",
        "  cross_ent = tf.nn.sigmoid_cross_entropy_with_logits(logits=x_logit, labels=x)\n",
        "  logpx_z = -tf.reduce_sum(cross_ent, axis=[1, 2, 3])\n",
        "  logpz = log_normal_pdf(z, 0., 0.)\n",
        "  logqz_x = log_normal_pdf(z, mean, logvar)\n",
        "  return -tf.reduce_mean(logpx_z + logpz - logqz_x)\n",
        "\n",
        "@tf.function\n",
        "def compute_apply_gradients(model, x, optimizer):\n",
        "  with tf.GradientTape() as tape:\n",
        "    loss = compute_loss(model, x)\n",
        "  gradients = tape.gradient(loss, model.trainable_variables)\n",
        "  optimizer.apply_gradients(zip(gradients, model.trainable_variables))\n"
      ],
      "execution_count": 0,
      "outputs": []
    },
    {
      "cell_type": "markdown",
      "metadata": {
        "id": "XNez8Zy8h2YL",
        "colab_type": "text"
      },
      "source": [
        "\n",
        "# Train the Colourisation Model"
      ]
    },
    {
      "cell_type": "code",
      "metadata": {
        "id": "LlwqYkNDh4cy",
        "colab_type": "code",
        "outputId": "dd329d5d-ac2a-4e3a-b04b-a867ce32b40b",
        "colab": {
          "base_uri": "https://localhost:8080/",
          "height": 1000
        }
      },
      "source": [
        "epochs = 100\n",
        "latent_dim = 50\n",
        "num_examples_to_generate = 16\n",
        "\n",
        "TRAIN_BUF = 60000\n",
        "BATCH_SIZE = 100\n",
        "\n",
        "TEST_BUF = 10000\n",
        "\n",
        "batched_train_y = np.array(np.split(train_y, (train_y.shape[0]/BATCH_SIZE))).astype('float32')\n",
        "batched_train_uv = np.array(np.split(train_uv, (train_uv.shape[0]/BATCH_SIZE))).astype('float32')\n",
        "batched_test_y = np.array(np.split(train_y, (test_y.shape[0]/BATCH_SIZE))).astype('float32')\n",
        "batched_test_uv = np.array(np.split(train_uv, (test_uv.shape[0]/BATCH_SIZE))).astype('float32')\n",
        "\n",
        "train_dataset = tf.data.Dataset.from_tensor_slices(train_y).shuffle(TRAIN_BUF).batch(BATCH_SIZE)\n",
        "test_dataset = tf.data.Dataset.from_tensor_slices(test_y).shuffle(TEST_BUF).batch(BATCH_SIZE)\n",
        "\n",
        "\n",
        "# keeping the random vector constant for generation (prediction) so\n",
        "# it will be easier to see the improvement.\n",
        "random_vector_for_generation = tf.random.normal(\n",
        "    shape=[num_examples_to_generate, latent_dim])\n",
        "model = CVAE(latent_dim)\n",
        "\n",
        "# def generate_and_save_images(model, epoch, test_input):\n",
        "#   predictions = model.sample(test_input)\n",
        "#   fig = plt.figure(figsize=(4,4))\n",
        "\n",
        "#   for i in range(predictions.shape[0]):\n",
        "#       plt.subplot(4, 4, i+1)\n",
        "#       plt.imshow(predictions[i, :, :, 0], cmap='gray')\n",
        "#       plt.axis('off')\n",
        "\n",
        "#   # tight_layout minimizes the overlap between 2 sub-plots\n",
        "#   plt.savefig('image_at_epoch_{:04d}.png'.format(epoch))\n",
        "#   plt.show()\n",
        "\n",
        "# generate_and_save_images(model, 0, random_vector_for_generation)\n",
        "\n",
        "for epoch in range(1, epochs + 1):\n",
        "  start_time = time.time()\n",
        "  for i in range(batched_train_uv.shape[0]):\n",
        "    compute_apply_gradients(model, batched_train_uv[i], optimizer)\n",
        "  # for train_x in train_dataset:\n",
        "  #   compute_apply_gradients(model, train_x, optimizer)\n",
        "  end_time = time.time()\n",
        "\n",
        "  if epoch % 1 == 0:\n",
        "    loss = tf.keras.metrics.Mean()\n",
        "    for i in range(batched_test_uv.shape[0]):\n",
        "      loss(compute_loss(model, batched_test_uv[i]))\n",
        "    # for test_x in test_dataset:\n",
        "    #   loss(compute_loss(model, test_x))\n",
        "    elbo = -loss.result()\n",
        "    # display.clear_output(wait=False)\n",
        "    print('Epoch: {}, Test set ELBO: {}, '\n",
        "          'time elapse for current epoch {}'.format(epoch,\n",
        "                                                    elbo,\n",
        "                                                    end_time - start_time))\n",
        "    # generate_and_save_images(\n",
        "    #     model, epoch, random_vector_for_generation)"
      ],
      "execution_count": 24,
      "outputs": [
        {
          "output_type": "stream",
          "text": [
            "Epoch: 1, Test set ELBO: -1358.043701171875, time elapse for current epoch 0.9585564136505127\n",
            "Epoch: 2, Test set ELBO: -460.0276794433594, time elapse for current epoch 0.13679790496826172\n",
            "Epoch: 3, Test set ELBO: 87.65216064453125, time elapse for current epoch 0.13639283180236816\n",
            "Epoch: 4, Test set ELBO: 5371.6923828125, time elapse for current epoch 0.13576412200927734\n",
            "Epoch: 5, Test set ELBO: 143101.875, time elapse for current epoch 0.13866281509399414\n",
            "Epoch: 6, Test set ELBO: 1839335.25, time elapse for current epoch 0.13665390014648438\n",
            "Epoch: 7, Test set ELBO: 13196758.0, time elapse for current epoch 0.13946008682250977\n",
            "Epoch: 8, Test set ELBO: 69497664.0, time elapse for current epoch 0.13600969314575195\n",
            "Epoch: 9, Test set ELBO: nan, time elapse for current epoch 0.13848447799682617\n",
            "Epoch: 10, Test set ELBO: nan, time elapse for current epoch 0.13628697395324707\n",
            "Epoch: 11, Test set ELBO: nan, time elapse for current epoch 0.1366572380065918\n",
            "Epoch: 12, Test set ELBO: nan, time elapse for current epoch 0.13548851013183594\n",
            "Epoch: 13, Test set ELBO: nan, time elapse for current epoch 0.13764429092407227\n",
            "Epoch: 14, Test set ELBO: nan, time elapse for current epoch 0.13634276390075684\n",
            "Epoch: 15, Test set ELBO: nan, time elapse for current epoch 0.13682007789611816\n",
            "Epoch: 16, Test set ELBO: nan, time elapse for current epoch 0.13689541816711426\n",
            "Epoch: 17, Test set ELBO: nan, time elapse for current epoch 0.1388242244720459\n",
            "Epoch: 18, Test set ELBO: nan, time elapse for current epoch 0.13624906539916992\n",
            "Epoch: 19, Test set ELBO: nan, time elapse for current epoch 0.1358799934387207\n",
            "Epoch: 20, Test set ELBO: nan, time elapse for current epoch 0.13519692420959473\n",
            "Epoch: 21, Test set ELBO: nan, time elapse for current epoch 0.13757753372192383\n",
            "Epoch: 22, Test set ELBO: nan, time elapse for current epoch 0.13553810119628906\n",
            "Epoch: 23, Test set ELBO: nan, time elapse for current epoch 0.13787412643432617\n",
            "Epoch: 24, Test set ELBO: nan, time elapse for current epoch 0.1363070011138916\n",
            "Epoch: 25, Test set ELBO: nan, time elapse for current epoch 0.13549423217773438\n",
            "Epoch: 26, Test set ELBO: nan, time elapse for current epoch 0.1409904956817627\n",
            "Epoch: 27, Test set ELBO: nan, time elapse for current epoch 0.13600540161132812\n",
            "Epoch: 28, Test set ELBO: nan, time elapse for current epoch 0.13647842407226562\n",
            "Epoch: 29, Test set ELBO: nan, time elapse for current epoch 0.1362476348876953\n",
            "Epoch: 30, Test set ELBO: nan, time elapse for current epoch 0.14323735237121582\n",
            "Epoch: 31, Test set ELBO: nan, time elapse for current epoch 0.1366105079650879\n",
            "Epoch: 32, Test set ELBO: nan, time elapse for current epoch 0.13569998741149902\n",
            "Epoch: 33, Test set ELBO: nan, time elapse for current epoch 0.1372678279876709\n",
            "Epoch: 34, Test set ELBO: nan, time elapse for current epoch 0.13755106925964355\n",
            "Epoch: 35, Test set ELBO: nan, time elapse for current epoch 0.13623690605163574\n",
            "Epoch: 36, Test set ELBO: nan, time elapse for current epoch 0.1358652114868164\n",
            "Epoch: 37, Test set ELBO: nan, time elapse for current epoch 0.1376030445098877\n",
            "Epoch: 38, Test set ELBO: nan, time elapse for current epoch 0.13544130325317383\n",
            "Epoch: 39, Test set ELBO: nan, time elapse for current epoch 0.13667845726013184\n",
            "Epoch: 40, Test set ELBO: nan, time elapse for current epoch 0.13612055778503418\n",
            "Epoch: 41, Test set ELBO: nan, time elapse for current epoch 0.14146685600280762\n",
            "Epoch: 42, Test set ELBO: nan, time elapse for current epoch 0.13776135444641113\n",
            "Epoch: 43, Test set ELBO: nan, time elapse for current epoch 0.13747453689575195\n",
            "Epoch: 44, Test set ELBO: nan, time elapse for current epoch 0.13721489906311035\n",
            "Epoch: 45, Test set ELBO: nan, time elapse for current epoch 0.140913724899292\n",
            "Epoch: 46, Test set ELBO: nan, time elapse for current epoch 0.1371321678161621\n",
            "Epoch: 47, Test set ELBO: nan, time elapse for current epoch 0.1365218162536621\n",
            "Epoch: 48, Test set ELBO: nan, time elapse for current epoch 0.1352846622467041\n"
          ],
          "name": "stdout"
        },
        {
          "output_type": "error",
          "ename": "KeyboardInterrupt",
          "evalue": "ignored",
          "traceback": [
            "\u001b[0;31m---------------------------------------------------------------------------\u001b[0m",
            "\u001b[0;31mKeyboardInterrupt\u001b[0m                         Traceback (most recent call last)",
            "\u001b[0;32m<ipython-input-24-3c74f138c7ff>\u001b[0m in \u001b[0;36m<module>\u001b[0;34m()\u001b[0m\n\u001b[1;32m     41\u001b[0m   \u001b[0mstart_time\u001b[0m \u001b[0;34m=\u001b[0m \u001b[0mtime\u001b[0m\u001b[0;34m.\u001b[0m\u001b[0mtime\u001b[0m\u001b[0;34m(\u001b[0m\u001b[0;34m)\u001b[0m\u001b[0;34m\u001b[0m\u001b[0;34m\u001b[0m\u001b[0m\n\u001b[1;32m     42\u001b[0m   \u001b[0;32mfor\u001b[0m \u001b[0mi\u001b[0m \u001b[0;32min\u001b[0m \u001b[0mrange\u001b[0m\u001b[0;34m(\u001b[0m\u001b[0mbatched_train_uv\u001b[0m\u001b[0;34m.\u001b[0m\u001b[0mshape\u001b[0m\u001b[0;34m[\u001b[0m\u001b[0;36m0\u001b[0m\u001b[0;34m]\u001b[0m\u001b[0;34m)\u001b[0m\u001b[0;34m:\u001b[0m\u001b[0;34m\u001b[0m\u001b[0;34m\u001b[0m\u001b[0m\n\u001b[0;32m---> 43\u001b[0;31m     \u001b[0mcompute_apply_gradients\u001b[0m\u001b[0;34m(\u001b[0m\u001b[0mmodel\u001b[0m\u001b[0;34m,\u001b[0m \u001b[0mbatched_train_uv\u001b[0m\u001b[0;34m[\u001b[0m\u001b[0mi\u001b[0m\u001b[0;34m]\u001b[0m\u001b[0;34m,\u001b[0m \u001b[0moptimizer\u001b[0m\u001b[0;34m)\u001b[0m\u001b[0;34m\u001b[0m\u001b[0;34m\u001b[0m\u001b[0m\n\u001b[0m\u001b[1;32m     44\u001b[0m   \u001b[0;31m# for train_x in train_dataset:\u001b[0m\u001b[0;34m\u001b[0m\u001b[0;34m\u001b[0m\u001b[0;34m\u001b[0m\u001b[0m\n\u001b[1;32m     45\u001b[0m   \u001b[0;31m#   compute_apply_gradients(model, train_x, optimizer)\u001b[0m\u001b[0;34m\u001b[0m\u001b[0;34m\u001b[0m\u001b[0;34m\u001b[0m\u001b[0m\n",
            "\u001b[0;32m/tensorflow-2.1.0/python3.6/tensorflow_core/python/eager/def_function.py\u001b[0m in \u001b[0;36m__call__\u001b[0;34m(self, *args, **kwds)\u001b[0m\n\u001b[1;32m    566\u001b[0m         \u001b[0mxla_context\u001b[0m\u001b[0;34m.\u001b[0m\u001b[0mExit\u001b[0m\u001b[0;34m(\u001b[0m\u001b[0;34m)\u001b[0m\u001b[0;34m\u001b[0m\u001b[0;34m\u001b[0m\u001b[0m\n\u001b[1;32m    567\u001b[0m     \u001b[0;32melse\u001b[0m\u001b[0;34m:\u001b[0m\u001b[0;34m\u001b[0m\u001b[0;34m\u001b[0m\u001b[0m\n\u001b[0;32m--> 568\u001b[0;31m       \u001b[0mresult\u001b[0m \u001b[0;34m=\u001b[0m \u001b[0mself\u001b[0m\u001b[0;34m.\u001b[0m\u001b[0m_call\u001b[0m\u001b[0;34m(\u001b[0m\u001b[0;34m*\u001b[0m\u001b[0margs\u001b[0m\u001b[0;34m,\u001b[0m \u001b[0;34m**\u001b[0m\u001b[0mkwds\u001b[0m\u001b[0;34m)\u001b[0m\u001b[0;34m\u001b[0m\u001b[0;34m\u001b[0m\u001b[0m\n\u001b[0m\u001b[1;32m    569\u001b[0m \u001b[0;34m\u001b[0m\u001b[0m\n\u001b[1;32m    570\u001b[0m     \u001b[0;32mif\u001b[0m \u001b[0mtracing_count\u001b[0m \u001b[0;34m==\u001b[0m \u001b[0mself\u001b[0m\u001b[0;34m.\u001b[0m\u001b[0m_get_tracing_count\u001b[0m\u001b[0;34m(\u001b[0m\u001b[0;34m)\u001b[0m\u001b[0;34m:\u001b[0m\u001b[0;34m\u001b[0m\u001b[0;34m\u001b[0m\u001b[0m\n",
            "\u001b[0;32m/tensorflow-2.1.0/python3.6/tensorflow_core/python/eager/def_function.py\u001b[0m in \u001b[0;36m_call\u001b[0;34m(self, *args, **kwds)\u001b[0m\n\u001b[1;32m    597\u001b[0m       \u001b[0;31m# In this case we have created variables on the first call, so we run the\u001b[0m\u001b[0;34m\u001b[0m\u001b[0;34m\u001b[0m\u001b[0;34m\u001b[0m\u001b[0m\n\u001b[1;32m    598\u001b[0m       \u001b[0;31m# defunned version which is guaranteed to never create variables.\u001b[0m\u001b[0;34m\u001b[0m\u001b[0;34m\u001b[0m\u001b[0;34m\u001b[0m\u001b[0m\n\u001b[0;32m--> 599\u001b[0;31m       \u001b[0;32mreturn\u001b[0m \u001b[0mself\u001b[0m\u001b[0;34m.\u001b[0m\u001b[0m_stateless_fn\u001b[0m\u001b[0;34m(\u001b[0m\u001b[0;34m*\u001b[0m\u001b[0margs\u001b[0m\u001b[0;34m,\u001b[0m \u001b[0;34m**\u001b[0m\u001b[0mkwds\u001b[0m\u001b[0;34m)\u001b[0m  \u001b[0;31m# pylint: disable=not-callable\u001b[0m\u001b[0;34m\u001b[0m\u001b[0;34m\u001b[0m\u001b[0m\n\u001b[0m\u001b[1;32m    600\u001b[0m     \u001b[0;32melif\u001b[0m \u001b[0mself\u001b[0m\u001b[0;34m.\u001b[0m\u001b[0m_stateful_fn\u001b[0m \u001b[0;32mis\u001b[0m \u001b[0;32mnot\u001b[0m \u001b[0;32mNone\u001b[0m\u001b[0;34m:\u001b[0m\u001b[0;34m\u001b[0m\u001b[0;34m\u001b[0m\u001b[0m\n\u001b[1;32m    601\u001b[0m       \u001b[0;31m# Release the lock early so that multiple threads can perform the call\u001b[0m\u001b[0;34m\u001b[0m\u001b[0;34m\u001b[0m\u001b[0;34m\u001b[0m\u001b[0m\n",
            "\u001b[0;32m/tensorflow-2.1.0/python3.6/tensorflow_core/python/eager/function.py\u001b[0m in \u001b[0;36m__call__\u001b[0;34m(self, *args, **kwargs)\u001b[0m\n\u001b[1;32m   2361\u001b[0m     \u001b[0;32mwith\u001b[0m \u001b[0mself\u001b[0m\u001b[0;34m.\u001b[0m\u001b[0m_lock\u001b[0m\u001b[0;34m:\u001b[0m\u001b[0;34m\u001b[0m\u001b[0;34m\u001b[0m\u001b[0m\n\u001b[1;32m   2362\u001b[0m       \u001b[0mgraph_function\u001b[0m\u001b[0;34m,\u001b[0m \u001b[0margs\u001b[0m\u001b[0;34m,\u001b[0m \u001b[0mkwargs\u001b[0m \u001b[0;34m=\u001b[0m \u001b[0mself\u001b[0m\u001b[0;34m.\u001b[0m\u001b[0m_maybe_define_function\u001b[0m\u001b[0;34m(\u001b[0m\u001b[0margs\u001b[0m\u001b[0;34m,\u001b[0m \u001b[0mkwargs\u001b[0m\u001b[0;34m)\u001b[0m\u001b[0;34m\u001b[0m\u001b[0;34m\u001b[0m\u001b[0m\n\u001b[0;32m-> 2363\u001b[0;31m     \u001b[0;32mreturn\u001b[0m \u001b[0mgraph_function\u001b[0m\u001b[0;34m.\u001b[0m\u001b[0m_filtered_call\u001b[0m\u001b[0;34m(\u001b[0m\u001b[0margs\u001b[0m\u001b[0;34m,\u001b[0m \u001b[0mkwargs\u001b[0m\u001b[0;34m)\u001b[0m  \u001b[0;31m# pylint: disable=protected-access\u001b[0m\u001b[0;34m\u001b[0m\u001b[0;34m\u001b[0m\u001b[0m\n\u001b[0m\u001b[1;32m   2364\u001b[0m \u001b[0;34m\u001b[0m\u001b[0m\n\u001b[1;32m   2365\u001b[0m   \u001b[0;34m@\u001b[0m\u001b[0mproperty\u001b[0m\u001b[0;34m\u001b[0m\u001b[0;34m\u001b[0m\u001b[0m\n",
            "\u001b[0;32m/tensorflow-2.1.0/python3.6/tensorflow_core/python/eager/function.py\u001b[0m in \u001b[0;36m_filtered_call\u001b[0;34m(self, args, kwargs)\u001b[0m\n\u001b[1;32m   1609\u001b[0m          if isinstance(t, (ops.Tensor,\n\u001b[1;32m   1610\u001b[0m                            resource_variable_ops.BaseResourceVariable))),\n\u001b[0;32m-> 1611\u001b[0;31m         self.captured_inputs)\n\u001b[0m\u001b[1;32m   1612\u001b[0m \u001b[0;34m\u001b[0m\u001b[0m\n\u001b[1;32m   1613\u001b[0m   \u001b[0;32mdef\u001b[0m \u001b[0m_call_flat\u001b[0m\u001b[0;34m(\u001b[0m\u001b[0mself\u001b[0m\u001b[0;34m,\u001b[0m \u001b[0margs\u001b[0m\u001b[0;34m,\u001b[0m \u001b[0mcaptured_inputs\u001b[0m\u001b[0;34m,\u001b[0m \u001b[0mcancellation_manager\u001b[0m\u001b[0;34m=\u001b[0m\u001b[0;32mNone\u001b[0m\u001b[0;34m)\u001b[0m\u001b[0;34m:\u001b[0m\u001b[0;34m\u001b[0m\u001b[0;34m\u001b[0m\u001b[0m\n",
            "\u001b[0;32m/tensorflow-2.1.0/python3.6/tensorflow_core/python/eager/function.py\u001b[0m in \u001b[0;36m_call_flat\u001b[0;34m(self, args, captured_inputs, cancellation_manager)\u001b[0m\n\u001b[1;32m   1690\u001b[0m       \u001b[0;31m# No tape is watching; skip to running the function.\u001b[0m\u001b[0;34m\u001b[0m\u001b[0;34m\u001b[0m\u001b[0;34m\u001b[0m\u001b[0m\n\u001b[1;32m   1691\u001b[0m       return self._build_call_outputs(self._inference_function.call(\n\u001b[0;32m-> 1692\u001b[0;31m           ctx, args, cancellation_manager=cancellation_manager))\n\u001b[0m\u001b[1;32m   1693\u001b[0m     forward_backward = self._select_forward_and_backward_functions(\n\u001b[1;32m   1694\u001b[0m         \u001b[0margs\u001b[0m\u001b[0;34m,\u001b[0m\u001b[0;34m\u001b[0m\u001b[0;34m\u001b[0m\u001b[0m\n",
            "\u001b[0;32m/tensorflow-2.1.0/python3.6/tensorflow_core/python/eager/function.py\u001b[0m in \u001b[0;36mcall\u001b[0;34m(self, ctx, args, cancellation_manager)\u001b[0m\n\u001b[1;32m    543\u001b[0m               \u001b[0minputs\u001b[0m\u001b[0;34m=\u001b[0m\u001b[0margs\u001b[0m\u001b[0;34m,\u001b[0m\u001b[0;34m\u001b[0m\u001b[0;34m\u001b[0m\u001b[0m\n\u001b[1;32m    544\u001b[0m               \u001b[0mattrs\u001b[0m\u001b[0;34m=\u001b[0m\u001b[0;34m(\u001b[0m\u001b[0;34m\"executor_type\"\u001b[0m\u001b[0;34m,\u001b[0m \u001b[0mexecutor_type\u001b[0m\u001b[0;34m,\u001b[0m \u001b[0;34m\"config_proto\"\u001b[0m\u001b[0;34m,\u001b[0m \u001b[0mconfig\u001b[0m\u001b[0;34m)\u001b[0m\u001b[0;34m,\u001b[0m\u001b[0;34m\u001b[0m\u001b[0;34m\u001b[0m\u001b[0m\n\u001b[0;32m--> 545\u001b[0;31m               ctx=ctx)\n\u001b[0m\u001b[1;32m    546\u001b[0m         \u001b[0;32melse\u001b[0m\u001b[0;34m:\u001b[0m\u001b[0;34m\u001b[0m\u001b[0;34m\u001b[0m\u001b[0m\n\u001b[1;32m    547\u001b[0m           outputs = execute.execute_with_cancellation(\n",
            "\u001b[0;32m/tensorflow-2.1.0/python3.6/tensorflow_core/python/eager/execute.py\u001b[0m in \u001b[0;36mquick_execute\u001b[0;34m(op_name, num_outputs, inputs, attrs, ctx, name)\u001b[0m\n\u001b[1;32m     59\u001b[0m     tensors = pywrap_tensorflow.TFE_Py_Execute(ctx._handle, device_name,\n\u001b[1;32m     60\u001b[0m                                                \u001b[0mop_name\u001b[0m\u001b[0;34m,\u001b[0m \u001b[0minputs\u001b[0m\u001b[0;34m,\u001b[0m \u001b[0mattrs\u001b[0m\u001b[0;34m,\u001b[0m\u001b[0;34m\u001b[0m\u001b[0;34m\u001b[0m\u001b[0m\n\u001b[0;32m---> 61\u001b[0;31m                                                num_outputs)\n\u001b[0m\u001b[1;32m     62\u001b[0m   \u001b[0;32mexcept\u001b[0m \u001b[0mcore\u001b[0m\u001b[0;34m.\u001b[0m\u001b[0m_NotOkStatusException\u001b[0m \u001b[0;32mas\u001b[0m \u001b[0me\u001b[0m\u001b[0;34m:\u001b[0m\u001b[0;34m\u001b[0m\u001b[0;34m\u001b[0m\u001b[0m\n\u001b[1;32m     63\u001b[0m     \u001b[0;32mif\u001b[0m \u001b[0mname\u001b[0m \u001b[0;32mis\u001b[0m \u001b[0;32mnot\u001b[0m \u001b[0;32mNone\u001b[0m\u001b[0;34m:\u001b[0m\u001b[0;34m\u001b[0m\u001b[0;34m\u001b[0m\u001b[0m\n",
            "\u001b[0;31mKeyboardInterrupt\u001b[0m: "
          ]
        }
      ]
    },
    {
      "cell_type": "code",
      "metadata": {
        "id": "E_YQkPlOtN-f",
        "colab_type": "code",
        "colab": {}
      },
      "source": [
        ""
      ],
      "execution_count": 0,
      "outputs": []
    }
  ]
}