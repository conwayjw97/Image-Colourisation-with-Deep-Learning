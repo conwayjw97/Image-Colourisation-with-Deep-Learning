{
  "nbformat": 4,
  "nbformat_minor": 0,
  "metadata": {
    "colab": {
      "name": "CVAECifar10.ipynb",
      "provenance": [],
      "collapsed_sections": [],
      "machine_shape": "hm",
      "include_colab_link": true
    },
    "kernelspec": {
      "name": "python3",
      "display_name": "Python 3"
    },
    "accelerator": "GPU"
  },
  "cells": [
    {
      "cell_type": "markdown",
      "metadata": {
        "id": "view-in-github",
        "colab_type": "text"
      },
      "source": [
        "<a href=\"https://colab.research.google.com/github/conwayjw97/Image-Colourisation/blob/master/src/CVAECifar10.ipynb\" target=\"_parent\"><img src=\"https://colab.research.google.com/assets/colab-badge.svg\" alt=\"Open In Colab\"/></a>"
      ]
    },
    {
      "cell_type": "markdown",
      "metadata": {
        "id": "wc7f9oUxbhDn",
        "colab_type": "text"
      },
      "source": [
        "# Global Variables"
      ]
    },
    {
      "cell_type": "code",
      "metadata": {
        "id": "GOxW6goCbgnx",
        "colab_type": "code",
        "colab": {}
      },
      "source": [
        "IMAGE_COUNT = 50000\n",
        "TRAINING_IMAGE = 0\n",
        "TEST_IMAGE = 0\n",
        "BATCH_SIZE = 1000\n",
        "VAE_EPOCHS = 50\n",
        "LATENT_DIM = 50\n",
        "LOAD_VAE_MODEL = False\n",
        "INPUT_IMAGE = 10\n",
        "TRAIN_BUF = 60000\n",
        "TEST_BUF = 10000"
      ],
      "execution_count": 0,
      "outputs": []
    },
    {
      "cell_type": "markdown",
      "metadata": {
        "id": "eeMNZF0P1Ter",
        "colab_type": "text"
      },
      "source": [
        "# Import Statements"
      ]
    },
    {
      "cell_type": "code",
      "metadata": {
        "id": "Zp0eWDHK1SZM",
        "colab_type": "code",
        "outputId": "ca181f6a-7fd2-4272-aa22-132b53843a94",
        "colab": {
          "base_uri": "https://localhost:8080/",
          "height": 34
        }
      },
      "source": [
        "from __future__ import absolute_import, division, print_function, unicode_literals\n",
        "try:\n",
        "  # %tensorflow_version only exists in Colab.\n",
        "  %tensorflow_version 2.x\n",
        "except Exception:\n",
        "  pass\n",
        "\n",
        "#%load_ext tensorboard\n",
        "\n",
        "import tensorflow as tf\n",
        "import datetime, os\n",
        "import matplotlib.pyplot as plt\n",
        "import numpy as np\n",
        "import math\n",
        "import time\n",
        "from scipy.ndimage.filters import gaussian_filter1d\n",
        "from tensorflow.keras import datasets, layers, models, backend, utils, optimizers, regularizers\n",
        "from tensorflow.keras.preprocessing.image import ImageDataGenerator\n",
        "from google.colab import drive, files\n",
        "\n",
        "drive.mount(\"/content/gdrive\", force_remount=True)\n",
        "base_dir = \"/content/gdrive/My Drive/DeterministicConvNetCifar10/\""
      ],
      "execution_count": 48,
      "outputs": [
        {
          "output_type": "stream",
          "text": [
            "Mounted at /content/gdrive\n"
          ],
          "name": "stdout"
        }
      ]
    },
    {
      "cell_type": "markdown",
      "metadata": {
        "id": "yefjUKIW1bID",
        "colab_type": "text"
      },
      "source": [
        "# Load Dataset"
      ]
    },
    {
      "cell_type": "code",
      "metadata": {
        "id": "3fL4xz021ahD",
        "colab_type": "code",
        "colab": {}
      },
      "source": [
        "(train_images, train_labels), (test_images, test_labels) = datasets.cifar10.load_data()\n",
        "train_images = train_images / 255.0\n",
        "test_images = test_images / 255.0"
      ],
      "execution_count": 0,
      "outputs": []
    },
    {
      "cell_type": "markdown",
      "metadata": {
        "id": "3HRiS8WTYj0Z",
        "colab_type": "text"
      },
      "source": [
        "# Convert Classification Images to Grayscale"
      ]
    },
    {
      "cell_type": "code",
      "metadata": {
        "id": "9MF98m-RYm59",
        "colab_type": "code",
        "colab": {}
      },
      "source": [
        "train_gray_images = tf.image.rgb_to_grayscale(train_images[:IMAGE_COUNT])\n",
        "test_gray_images = tf.image.rgb_to_grayscale(test_images[:IMAGE_COUNT])"
      ],
      "execution_count": 0,
      "outputs": []
    },
    {
      "cell_type": "markdown",
      "metadata": {
        "id": "NsX83fx9RQDd",
        "colab_type": "text"
      },
      "source": [
        "# Load the Classification Model"
      ]
    },
    {
      "cell_type": "code",
      "metadata": {
        "id": "HnNteISdRTn_",
        "colab_type": "code",
        "outputId": "1db2f2fd-3282-45ed-d639-a03c61c82850",
        "colab": {
          "base_uri": "https://localhost:8080/",
          "height": 34
        }
      },
      "source": [
        "model_dir = os.path.dirname(base_dir + \"classification.h5\")\n",
        "\n",
        "json_file = open(base_dir + \"classification.json\", 'r')\n",
        "loaded_model_json = json_file.read()\n",
        "json_file.close()\n",
        "classification_model = models.model_from_json(loaded_model_json)\n",
        "classification_model.load_weights(base_dir + \"classification.h5\", by_name=False)\n",
        "\n",
        "opt = optimizers.SGD(lr=0.001, momentum=0.9)\n",
        "classification_model.compile(optimizer=opt, loss='categorical_crossentropy', metrics=['accuracy'])\n",
        "\n",
        "print(\"Loaded model from disk\")"
      ],
      "execution_count": 51,
      "outputs": [
        {
          "output_type": "stream",
          "text": [
            "Loaded model from disk\n"
          ],
          "name": "stdout"
        }
      ]
    },
    {
      "cell_type": "markdown",
      "metadata": {
        "id": "MTQBW1inUbVy",
        "colab_type": "text"
      },
      "source": [
        "# Classification Results"
      ]
    },
    {
      "cell_type": "code",
      "metadata": {
        "id": "Ym93lYrLUfSe",
        "colab_type": "code",
        "outputId": "25470cd1-940e-4531-83d9-772564fd36e0",
        "colab": {
          "base_uri": "https://localhost:8080/",
          "height": 217
        }
      },
      "source": [
        "image_labels = [\"airplane\", \"automobile\", \"bird\", \"cat\", \"deer\", \"dog\", \"frog\", \"horse\", \"ship\", \"truck\"]\n",
        "\n",
        "output_count = 12\n",
        "\n",
        "fig = plt.figure(figsize=(39,39))\n",
        "for i in range(output_count):\n",
        "  result = classification_model.predict_classes(tf.expand_dims(test_gray_images[i], 0))\n",
        "  fig.add_subplot(1,output_count,i+1)\n",
        "  plt.title(image_labels[int(result)])\n",
        "  plt.imshow(tf.image.grayscale_to_rgb(test_gray_images[i]))"
      ],
      "execution_count": 52,
      "outputs": [
        {
          "output_type": "display_data",
          "data": {
            "image/png": "[encoded data removed]",
            "text/plain": [
              "<Figure size 2808x2808 with 12 Axes>"
            ]
          },
          "metadata": {
            "tags": []
          }
        }
      ]
    },
    {
      "cell_type": "markdown",
      "metadata": {
        "id": "uNblIuG3qSG6",
        "colab_type": "text"
      },
      "source": [
        "# Evaluate Image Class"
      ]
    },
    {
      "cell_type": "code",
      "metadata": {
        "id": "SJUcR_14qbfJ",
        "colab_type": "code",
        "outputId": "9acb5ab3-46b2-4030-baba-653915e0f44c",
        "colab": {
          "base_uri": "https://localhost:8080/",
          "height": 516
        }
      },
      "source": [
        "result = classification_model.predict_classes(tf.expand_dims(test_gray_images[INPUT_IMAGE], 0))\n",
        "print(\"Predicted image class:\", result, \"-\", image_labels[int(result)])\n",
        "fig = plt.figure(figsize=(8,8))\n",
        "plt.title(image_labels[int(result)])\n",
        "plt.imshow(tf.image.grayscale_to_rgb(test_gray_images[INPUT_IMAGE]))\n",
        "\n",
        "class_train_indices = np.argwhere(train_labels == result)\n",
        "class_train_images = train_images[class_train_indices[:,0]]\n",
        "class_test_indices = np.argwhere(test_labels == result)\n",
        "class_test_images = test_images[class_test_indices[:,0]]"
      ],
      "execution_count": 53,
      "outputs": [
        {
          "output_type": "stream",
          "text": [
            "Predicted image class: [0] - airplane\n"
          ],
          "name": "stdout"
        },
        {
          "output_type": "display_data",
          "data": {
            "image/png": "[encoded data removed]",
            "text/plain": [
              "<Figure size 576x576 with 1 Axes>"
            ]
          },
          "metadata": {
            "tags": []
          }
        }
      ]
    },
    {
      "cell_type": "markdown",
      "metadata": {
        "id": "FJvz9yQW1dm6",
        "colab_type": "text"
      },
      "source": [
        "# Convert Colourisation Images to YUV"
      ]
    },
    {
      "cell_type": "code",
      "metadata": {
        "id": "bq6UIAUp1fQz",
        "colab_type": "code",
        "colab": {}
      },
      "source": [
        "# Outputs a tensor of the same shape as the images tensor, containing the YUV \n",
        "# value of the pixels. The output is only well defined if the value in images \n",
        "# are in [0,1].\n",
        "#https://zhengtq.github.io/2018/12/27/tensorflow-disturb-yuv/\n",
        "\n",
        "train_yuvImages = tf.image.rgb_to_yuv(class_train_images[:IMAGE_COUNT])\n",
        "train_y = tf.expand_dims(train_yuvImages[:,:,:,0], 3)\n",
        "train_uv = train_yuvImages[:,:,:,1:]\n",
        "\n",
        "test_yuvImages = tf.image.rgb_to_yuv(class_test_images[:IMAGE_COUNT])\n",
        "test_y = tf.expand_dims(test_yuvImages[:,:,:,0], 3)\n",
        "test_uv = test_yuvImages[:,:,:,1:]"
      ],
      "execution_count": 0,
      "outputs": []
    },
    {
      "cell_type": "markdown",
      "metadata": {
        "id": "1K8l_8WLhWEN",
        "colab_type": "text"
      },
      "source": [
        "# Create the VAE Network"
      ]
    },
    {
      "cell_type": "code",
      "metadata": {
        "id": "11HMioGP4Yy-",
        "colab_type": "code",
        "outputId": "e0e9a81c-f242-4bc5-94e3-9c877e812309",
        "colab": {
          "base_uri": "https://localhost:8080/",
          "height": 1000
        }
      },
      "source": [
        "def create_colourisation_encoder():\n",
        "  model = models.Sequential()\n",
        "  model.add(layers.Conv2D(32, (3, 3), activation='relu', padding='same', strides=2, input_shape=(train_uv.shape[1], train_uv.shape[2], 1)))\n",
        "  model.add(layers.Conv2D(64, (3, 3), activation='relu', padding='same', strides=2))\n",
        "  model.add(layers.Flatten())\n",
        "  model.add(layers.Dense(LATENT_DIM + LATENT_DIM))\n",
        "  return model\n",
        "\n",
        "create_colourisation_encoder().summary()\n",
        "\n",
        "def create_colourisation_decoder():\n",
        "  model = models.Sequential()\n",
        "  model.add(layers.InputLayer(input_shape=(LATENT_DIM,)))\n",
        "  model.add(layers.Dense(8, activation=tf.nn.relu))\n",
        "  model.add(layers.Reshape((2, 2, 2)))\n",
        "  model.add(layers.Conv2DTranspose(64, (3, 3), activation='relu', padding='same', strides=2))\n",
        "  model.add(layers.Conv2DTranspose(32, (3, 3), activation='relu', padding='same', strides=2))\n",
        "  model.add(layers.Conv2DTranspose(16, (3, 3), activation='relu', padding='same', strides=2))\n",
        "  model.add(layers.Conv2DTranspose(2, (3, 3), padding='same', strides=2))\n",
        "  # opt = optimizers.RMSprop(lr=0.0001, momentum=0.0)\n",
        "  # model.compile(optimizer=opt, loss='mse')\n",
        "  return model\n",
        "\n",
        "create_colourisation_decoder().summary()\n",
        "\n",
        "def create_colourisation_generator():\n",
        "    model = models.Sequential()\n",
        "    model.add(layers.Conv2D(8, (3, 3), input_shape=(32, 32, 1)))\n",
        "    model.add(layers.LeakyReLU())\n",
        "    model.add(layers.Conv2D(16, (3, 3), padding='same', strides=2))\n",
        "    model.add(layers.LeakyReLU())\n",
        "    model.add(layers.Dropout(0.2))\n",
        "    model.add(layers.Conv2D(32, (3, 3), padding='same', strides=2))\n",
        "    model.add(layers.LeakyReLU())\n",
        "    model.add(layers.Dropout(0.2))\n",
        "    model.add(layers.Conv2D(128, (3, 3), padding='same', strides=2))\n",
        "    model.add(layers.LeakyReLU())\n",
        "    model.add(layers.UpSampling2D((2, 2)))\n",
        "    model.add(layers.Dropout(0.2))\n",
        "    model.add(layers.Conv2D(128, (3, 3), padding='same'))\n",
        "    model.add(layers.LeakyReLU())\n",
        "    model.add(layers.UpSampling2D((2, 2)))\n",
        "    model.add(layers.Conv2D(32, (3, 3), padding='same'))\n",
        "    model.add(layers.LeakyReLU())\n",
        "    model.add(layers.Dropout(0.2))\n",
        "    model.add(layers.Conv2D(16, (3, 3), padding='same'))\n",
        "    model.add(layers.LeakyReLU())\n",
        "    model.add(layers.UpSampling2D((2, 2)))\n",
        "    model.add(layers.Conv2D(2, (3, 3), activation='tanh', padding='same'))\n",
        "    return model\n",
        "\n",
        "create_colourisation_generator().summary()"
      ],
      "execution_count": 60,
      "outputs": [
        {
          "output_type": "stream",
          "text": [
            "Model: \"sequential_20\"\n",
            "_________________________________________________________________\n",
            "Layer (type)                 Output Shape              Param #   \n",
            "=================================================================\n",
            "conv2d_26 (Conv2D)           (None, 16, 16, 32)        320       \n",
            "_________________________________________________________________\n",
            "conv2d_27 (Conv2D)           (None, 8, 8, 64)          18496     \n",
            "_________________________________________________________________\n",
            "flatten_10 (Flatten)         (None, 4096)              0         \n",
            "_________________________________________________________________\n",
            "dense_20 (Dense)             (None, 100)               409700    \n",
            "=================================================================\n",
            "Total params: 428,516\n",
            "Trainable params: 428,516\n",
            "Non-trainable params: 0\n",
            "_________________________________________________________________\n",
            "Model: \"sequential_21\"\n",
            "_________________________________________________________________\n",
            "Layer (type)                 Output Shape              Param #   \n",
            "=================================================================\n",
            "dense_21 (Dense)             (None, 8)                 408       \n",
            "_________________________________________________________________\n",
            "reshape_10 (Reshape)         (None, 2, 2, 2)           0         \n",
            "_________________________________________________________________\n",
            "conv2d_transpose_46 (Conv2DT (None, 4, 4, 64)          1216      \n",
            "_________________________________________________________________\n",
            "conv2d_transpose_47 (Conv2DT (None, 8, 8, 32)          18464     \n",
            "_________________________________________________________________\n",
            "conv2d_transpose_48 (Conv2DT (None, 16, 16, 16)        4624      \n",
            "_________________________________________________________________\n",
            "conv2d_transpose_49 (Conv2DT (None, 32, 32, 2)         290       \n",
            "=================================================================\n",
            "Total params: 25,002\n",
            "Trainable params: 25,002\n",
            "Non-trainable params: 0\n",
            "_________________________________________________________________\n",
            "Model: \"sequential_22\"\n",
            "_________________________________________________________________\n",
            "Layer (type)                 Output Shape              Param #   \n",
            "=================================================================\n",
            "conv2d_28 (Conv2D)           (None, 30, 30, 8)         80        \n",
            "_________________________________________________________________\n",
            "leaky_re_lu (LeakyReLU)      (None, 30, 30, 8)         0         \n",
            "_________________________________________________________________\n",
            "conv2d_29 (Conv2D)           (None, 15, 15, 16)        1168      \n",
            "_________________________________________________________________\n",
            "leaky_re_lu_1 (LeakyReLU)    (None, 15, 15, 16)        0         \n",
            "_________________________________________________________________\n",
            "dropout (Dropout)            (None, 15, 15, 16)        0         \n",
            "_________________________________________________________________\n",
            "conv2d_30 (Conv2D)           (None, 8, 8, 32)          4640      \n",
            "_________________________________________________________________\n",
            "leaky_re_lu_2 (LeakyReLU)    (None, 8, 8, 32)          0         \n",
            "_________________________________________________________________\n",
            "dropout_1 (Dropout)          (None, 8, 8, 32)          0         \n",
            "_________________________________________________________________\n",
            "conv2d_31 (Conv2D)           (None, 4, 4, 128)         36992     \n",
            "_________________________________________________________________\n",
            "leaky_re_lu_3 (LeakyReLU)    (None, 4, 4, 128)         0         \n",
            "_________________________________________________________________\n",
            "up_sampling2d (UpSampling2D) (None, 8, 8, 128)         0         \n",
            "_________________________________________________________________\n",
            "dropout_2 (Dropout)          (None, 8, 8, 128)         0         \n",
            "_________________________________________________________________\n",
            "conv2d_32 (Conv2D)           (None, 8, 8, 128)         147584    \n",
            "_________________________________________________________________\n",
            "leaky_re_lu_4 (LeakyReLU)    (None, 8, 8, 128)         0         \n",
            "_________________________________________________________________\n",
            "up_sampling2d_1 (UpSampling2 (None, 16, 16, 128)       0         \n",
            "_________________________________________________________________\n",
            "conv2d_33 (Conv2D)           (None, 16, 16, 32)        36896     \n",
            "_________________________________________________________________\n",
            "leaky_re_lu_5 (LeakyReLU)    (None, 16, 16, 32)        0         \n",
            "_________________________________________________________________\n",
            "dropout_3 (Dropout)          (None, 16, 16, 32)        0         \n",
            "_________________________________________________________________\n",
            "conv2d_34 (Conv2D)           (None, 16, 16, 16)        4624      \n",
            "_________________________________________________________________\n",
            "leaky_re_lu_6 (LeakyReLU)    (None, 16, 16, 16)        0         \n",
            "_________________________________________________________________\n",
            "up_sampling2d_2 (UpSampling2 (None, 32, 32, 16)        0         \n",
            "_________________________________________________________________\n",
            "conv2d_35 (Conv2D)           (None, 32, 32, 2)         290       \n",
            "=================================================================\n",
            "Total params: 232,274\n",
            "Trainable params: 232,274\n",
            "Non-trainable params: 0\n",
            "_________________________________________________________________\n"
          ],
          "name": "stdout"
        }
      ]
    },
    {
      "cell_type": "code",
      "metadata": {
        "id": "zKkLv8I9hZwG",
        "colab_type": "code",
        "colab": {}
      },
      "source": [
        "\n",
        "\n",
        "class CVAE(tf.keras.Model):\n",
        "  def __init__(self, latent_dim):\n",
        "    super(CVAE, self).__init__()\n",
        "    self.latent_dim = latent_dim\n",
        "    self.inference_net = tf.keras.Sequential(\n",
        "      [\n",
        "          tf.keras.layers.InputLayer(input_shape=(32, 32, 2)),\n",
        "          tf.keras.layers.Conv2D(\n",
        "              filters=16, kernel_size=3, strides=(2, 2), activation='relu'),\n",
        "          tf.keras.layers.Conv2D(\n",
        "              filters=32, kernel_size=3, strides=(2, 2), activation='relu'),\n",
        "          tf.keras.layers.Conv2D(\n",
        "              filters=64, kernel_size=3, strides=(2, 2), activation='relu'),\n",
        "          tf.keras.layers.Flatten(),\n",
        "          # No activation\n",
        "          tf.keras.layers.Dense(latent_dim + latent_dim),\n",
        "      ]\n",
        "    )\n",
        "\n",
        "    self.generative_net = tf.keras.Sequential(\n",
        "        [\n",
        "          tf.keras.layers.InputLayer(input_shape=(latent_dim,)),\n",
        "          tf.keras.layers.Dense(units=8, activation=tf.nn.relu),\n",
        "          tf.keras.layers.Reshape(target_shape=(2, 2, 2)),\n",
        "          tf.keras.layers.Conv2DTranspose(\n",
        "              filters=64,\n",
        "              kernel_size=3,\n",
        "              strides=(2, 2),\n",
        "              padding=\"SAME\",\n",
        "              activation='relu'),\n",
        "          tf.keras.layers.Conv2DTranspose(\n",
        "              filters=32,\n",
        "              kernel_size=3,\n",
        "              strides=(2, 2),\n",
        "              padding=\"SAME\",\n",
        "              activation='relu'),\n",
        "         tf.keras.layers.Conv2DTranspose(\n",
        "              filters=16,\n",
        "              kernel_size=3,\n",
        "              strides=(2, 2),\n",
        "              padding=\"SAME\",\n",
        "              activation='relu'),\n",
        "         tf.keras.layers.Conv2DTranspose(\n",
        "              filters=8,\n",
        "              kernel_size=3,\n",
        "              strides=(2, 2),\n",
        "              padding=\"SAME\",\n",
        "              activation='relu'),\n",
        "          # No activation\n",
        "          tf.keras.layers.Conv2DTranspose(\n",
        "              filters=2, kernel_size=3, strides=(1, 1), padding=\"SAME\"),\n",
        "        ]\n",
        "    )\n",
        "\n",
        "  @tf.function\n",
        "  def sample(self, eps=None):\n",
        "    if eps is None:\n",
        "      eps = tf.random.normal(shape=(100, self.latent_dim))\n",
        "    return self.decode(eps, apply_sigmoid=True)\n",
        "\n",
        "  def encode(self, x):\n",
        "    mean, logvar = tf.split(self.inference_net(x), num_or_size_splits=2, axis=1)\n",
        "    return mean, logvar\n",
        "\n",
        "  # Sample from the latent space by first sampling from from a unit Gaussian, \n",
        "  # and then multiplying by the standard deviation and adding the mean.\n",
        "  def reparameterize(self, mean, logvar):\n",
        "    eps = tf.random.normal(shape=mean.shape)\n",
        "    return eps * tf.exp(logvar * .5) + mean\n",
        "\n",
        "  def decode(self, z, apply_sigmoid=False):\n",
        "    logits = self.generative_net(z)\n",
        "    if apply_sigmoid:\n",
        "      probs = tf.sigmoid(logits)\n",
        "      return probs\n",
        "    return logits"
      ],
      "execution_count": 0,
      "outputs": []
    },
    {
      "cell_type": "markdown",
      "metadata": {
        "id": "F5SrDEESp9-4",
        "colab_type": "text"
      },
      "source": [
        "# Define Loss Function and Optimiser"
      ]
    },
    {
      "cell_type": "code",
      "metadata": {
        "id": "El0i0pjXqBbZ",
        "colab_type": "code",
        "colab": {}
      },
      "source": [
        "# VAEs train by maximizing the evidence lower bound (ELBO) on the marginal log-likelihood\n",
        "# In statistics, the evidence lower bound (ELBO, also variational lower bound or negative variational free energy) is the quantity optimized in Variational Bayesian methods.\n",
        "# In practice, we optimize the single sample Monte Carlo estimate of this expectation\n",
        "\n",
        "optimizer = optimizers.Adam(1e-4)\n",
        "\n",
        "def log_normal_pdf(sample, mean, logvar, raxis=1):\n",
        "  log2pi = tf.math.log(2. * np.pi)\n",
        "  return tf.reduce_sum(-.5 * ((sample - mean) ** 2. * tf.exp(-logvar) + logvar + log2pi), axis=raxis)\n",
        "\n",
        "@tf.function\n",
        "def compute_loss(model, x):\n",
        "  mean, logvar = model.encode(x)\n",
        "  z = model.reparameterize(mean, logvar)\n",
        "  x_logit = model.decode(z)\n",
        "\n",
        "  cross_ent = tf.nn.sigmoid_cross_entropy_with_logits(logits=x_logit, labels=x)\n",
        "  logpx_z = -tf.reduce_sum(cross_ent, axis=[1, 2, 3])\n",
        "  logpz = log_normal_pdf(z, 0., 0.)\n",
        "  logqz_x = log_normal_pdf(z, mean, logvar)\n",
        "  return -tf.reduce_mean(logpx_z + logpz - logqz_x)\n",
        "\n",
        "@tf.function\n",
        "def compute_apply_gradients(model, x, optimizer):\n",
        "  with tf.GradientTape() as tape:\n",
        "    loss = compute_loss(model, x)\n",
        "  gradients = tape.gradient(loss, model.trainable_variables)\n",
        "  optimizer.apply_gradients(zip(gradients, model.trainable_variables))\n"
      ],
      "execution_count": 0,
      "outputs": []
    },
    {
      "cell_type": "markdown",
      "metadata": {
        "id": "XNez8Zy8h2YL",
        "colab_type": "text"
      },
      "source": [
        "\n",
        "# Train the Colourisation Model"
      ]
    },
    {
      "cell_type": "code",
      "metadata": {
        "id": "LlwqYkNDh4cy",
        "colab_type": "code",
        "outputId": "2957d7a6-68c4-4249-e320-5d371809d00f",
        "colab": {
          "base_uri": "https://localhost:8080/",
          "height": 885
        }
      },
      "source": [
        "# Does this need to be shuffled?\n",
        "batched_train_y = np.array(np.split(train_y, (train_y.shape[0]/BATCH_SIZE))).astype('float32')\n",
        "batched_train_uv = np.array(np.split(train_uv, (train_uv.shape[0]/BATCH_SIZE))).astype('float32')\n",
        "batched_test_y = np.array(np.split(train_y, (test_y.shape[0]/BATCH_SIZE))).astype('float32')\n",
        "batched_test_uv = np.array(np.split(train_uv, (test_uv.shape[0]/BATCH_SIZE))).astype('float32')\n",
        "\n",
        "# keeping the random vector constant for generation (prediction) so\n",
        "# it will be easier to see the improvement.\n",
        "model = CVAE(LATENT_DIM)\n",
        "\n",
        "# def generate_and_save_images(model, epoch, test_input):\n",
        "#   predictions = model.sample(test_input)\n",
        "#   fig = plt.figure(figsize=(4,4))\n",
        "\n",
        "#   for i in range(predictions.shape[0]):\n",
        "#       plt.subplot(4, 4, i+1)\n",
        "#       plt.imshow(predictions[i, :, :, 0], cmap='gray')\n",
        "#       plt.axis('off')\n",
        "\n",
        "#   # tight_layout minimizes the overlap between 2 sub-plots\n",
        "#   plt.savefig('image_at_epoch_{:04d}.png'.format(epoch))\n",
        "#   plt.show()\n",
        "\n",
        "# generate_and_save_images(model, 0, random_vector_for_generation)\n",
        "\n",
        "for epoch in range(1, VAE_EPOCHS + 1):\n",
        "  start = time.time()\n",
        "  for i in range(batched_train_uv.shape[0]):\n",
        "    compute_apply_gradients(model, batched_train_uv[i], optimizer)\n",
        "  # for train_x in train_dataset:\n",
        "  #   compute_apply_gradients(model, train_x, optimizer)\n",
        "\n",
        "  if epoch % 1 == 0:\n",
        "    loss = tf.keras.metrics.Mean()\n",
        "    for i in range(batched_train_uv.shape[0]):\n",
        "      loss(compute_loss(model, batched_train_uv[i]))\n",
        "    # for test_x in test_dataset:\n",
        "    #   loss(compute_loss(model, test_x))\n",
        "    elbo = -loss.result()\n",
        "    # display.clear_output(wait=False)\n",
        "    print(\"Epoch %d/%d - %fs - evidence lower bound: %f\" % (epoch, VAE_EPOCHS, time.time()-start, elbo))\n",
        "    # print('Epoch: {}, Test set ELBO: {}, '\n",
        "    #       'time elapse for current epoch {}'.format(epoch,\n",
        "    #                                                 elbo,\n",
        "    #                                                 end_time - start_time))\n",
        "    # generate_and_save_images(\n",
        "    #     model, epoch, batched_train_uv[0])"
      ],
      "execution_count": 58,
      "outputs": [
        {
          "output_type": "stream",
          "text": [
            "Epoch 1/50 - 1.672163s - evidence lower bound: -1417.244385\n",
            "Epoch 2/50 - 0.127931s - evidence lower bound: -1415.423218\n",
            "Epoch 3/50 - 0.126472s - evidence lower bound: -1413.437622\n",
            "Epoch 4/50 - 0.120827s - evidence lower bound: -1411.301880\n",
            "Epoch 5/50 - 0.120893s - evidence lower bound: -1408.804199\n",
            "Epoch 6/50 - 0.120370s - evidence lower bound: -1405.939453\n",
            "Epoch 7/50 - 0.122791s - evidence lower bound: -1402.880249\n",
            "Epoch 8/50 - 0.120925s - evidence lower bound: -1398.707153\n",
            "Epoch 9/50 - 0.120551s - evidence lower bound: -1394.122925\n",
            "Epoch 10/50 - 0.121129s - evidence lower bound: -1388.155884\n",
            "Epoch 11/50 - 0.120439s - evidence lower bound: -1380.640991\n",
            "Epoch 12/50 - 0.120736s - evidence lower bound: -1370.614746\n",
            "Epoch 13/50 - 0.122655s - evidence lower bound: -1356.240723\n",
            "Epoch 14/50 - 0.120886s - evidence lower bound: -1336.321167\n",
            "Epoch 15/50 - 0.120768s - evidence lower bound: -1307.952881\n",
            "Epoch 16/50 - 0.121713s - evidence lower bound: -1265.952515\n",
            "Epoch 17/50 - 0.121513s - evidence lower bound: -1205.817627\n",
            "Epoch 18/50 - 0.119843s - evidence lower bound: -1125.975098\n",
            "Epoch 19/50 - 0.120458s - evidence lower bound: -1026.582031\n",
            "Epoch 20/50 - 0.120306s - evidence lower bound: -917.523926\n",
            "Epoch 21/50 - 0.119890s - evidence lower bound: -816.511108\n",
            "Epoch 22/50 - 0.120967s - evidence lower bound: -728.657837\n",
            "Epoch 23/50 - 0.121359s - evidence lower bound: -647.709595\n",
            "Epoch 24/50 - 0.121337s - evidence lower bound: -566.148560\n",
            "Epoch 25/50 - 0.121542s - evidence lower bound: -486.805847\n",
            "Epoch 26/50 - 0.120576s - evidence lower bound: -411.085938\n",
            "Epoch 27/50 - 0.120253s - evidence lower bound: -340.070892\n",
            "Epoch 28/50 - 0.120059s - evidence lower bound: -273.236603\n",
            "Epoch 29/50 - 0.119499s - evidence lower bound: -210.624359\n",
            "Epoch 30/50 - 0.120497s - evidence lower bound: -152.674469\n",
            "Epoch 31/50 - 0.119914s - evidence lower bound: -97.086914\n",
            "Epoch 32/50 - 0.119798s - evidence lower bound: -39.101891\n",
            "Epoch 33/50 - 0.121202s - evidence lower bound: 23.507172\n",
            "Epoch 34/50 - 0.122659s - evidence lower bound: 96.372757\n",
            "Epoch 35/50 - 0.120891s - evidence lower bound: 185.520416\n",
            "Epoch 36/50 - 0.120799s - evidence lower bound: 299.570282\n",
            "Epoch 37/50 - 0.120187s - evidence lower bound: 457.110443\n",
            "Epoch 38/50 - 0.119963s - evidence lower bound: 682.182739\n",
            "Epoch 39/50 - 0.120097s - evidence lower bound: 1018.844910\n",
            "Epoch 40/50 - 0.120222s - evidence lower bound: 1525.162598\n",
            "Epoch 41/50 - 0.122053s - evidence lower bound: 2302.383789\n",
            "Epoch 42/50 - 0.120813s - evidence lower bound: 3484.028076\n",
            "Epoch 43/50 - 0.120744s - evidence lower bound: 5261.606934\n",
            "Epoch 44/50 - 0.120676s - evidence lower bound: 7900.388184\n",
            "Epoch 45/50 - 0.120574s - evidence lower bound: 11769.637695\n",
            "Epoch 46/50 - 0.119601s - evidence lower bound: 17365.546875\n",
            "Epoch 47/50 - 0.120581s - evidence lower bound: 25389.974609\n",
            "Epoch 48/50 - 0.119867s - evidence lower bound: 36763.210938\n",
            "Epoch 49/50 - 0.119787s - evidence lower bound: 52659.562500\n",
            "Epoch 50/50 - 0.120909s - evidence lower bound: 74953.445312\n"
          ],
          "name": "stdout"
        }
      ]
    },
    {
      "cell_type": "markdown",
      "metadata": {
        "id": "7RtbZrJnYCLg",
        "colab_type": "text"
      },
      "source": [
        "# Training Results"
      ]
    },
    {
      "cell_type": "code",
      "metadata": {
        "id": "E_YQkPlOtN-f",
        "colab_type": "code",
        "colab": {
          "base_uri": "https://localhost:8080/",
          "height": 618
        },
        "outputId": "e29f8001-55fd-4a4c-a507-2cddef98d048"
      },
      "source": [
        "output_count = 12\n",
        "random_vector_for_generation = tf.random.normal(shape=[output_count, LATENT_DIM])\n",
        "print(random_vector_for_generation.shape)\n",
        "predictions = model.sample(random_vector_for_generation)\n",
        "print(predictions.shape)\n",
        "# fig = plt.figure(figsize=(4,4))\n",
        "\n",
        "# for i in range(predictions.shape[0]):\n",
        "#     plt.subplot(4, 4, i+1)\n",
        "#     plt.imshow(predictions[i, :, :, 0], cmap='gray')\n",
        "#     plt.axis('off')\n",
        "\n",
        "# # print(generator.evaluate(train_y, train_uv))\n",
        "# output = generator(train_y, training=False)\n",
        "\n",
        "# result = np.zeros((train_y.shape[0], 32, 32, 3))\n",
        "# result[:,:,:,0] = train_y[:,:,:,0]\n",
        "# result[:,:,:,1:] = output\n",
        "\n",
        "fig = plt.figure(figsize=(39, 39))\n",
        "for i in range(output_count):\n",
        "  fig.add_subplot(1,output_count,i+1)\n",
        "  plt.title(\"Input\")\n",
        "  plt.imshow(predictions[i])\n",
        "\n",
        "# fig = plt.figure(figsize=(39, 39))\n",
        "# for i in range(output_count):\n",
        "#   fig.add_subplot(1,output_count,i+1)\n",
        "#   plt.title(\"Original\")\n",
        "#   plt.imshow(class_train_images[TRAINING_IMAGE+i])\n",
        "\n",
        "# fig = plt.figure(figsize=(39, 39))\n",
        "# for i in range(output_count):\n",
        "#   fig.add_subplot(1,output_count,i+1)\n",
        "#   plt.title(\"Output\")\n",
        "#   plt.imshow(tf.image.yuv_to_rgb(result[TRAINING_IMAGE+i]))\n",
        "  \n",
        "# fig = plt.figure(figsize=(39, 39))\n",
        "# for i in range(output_count):\n",
        "#   fig.add_subplot(1,output_count,i+1)\n",
        "#   plt.title(\"U original\")\n",
        "#   plt.imshow(train_yuvImages[TRAINING_IMAGE+i,:,:,1])\n",
        "  \n",
        "# fig = plt.figure(figsize=(39, 39))\n",
        "# for i in range(output_count):\n",
        "#   fig.add_subplot(1,output_count,i+1)\n",
        "#   plt.title(\"U output\")\n",
        "#   plt.imshow(result[TRAINING_IMAGE+i,:,:,1])\n",
        "  \n",
        "# fig = plt.figure(figsize=(39, 39))\n",
        "# for i in range(output_count):\n",
        "#   fig.add_subplot(1,output_count,i+1)\n",
        "#   plt.title(\"V original\")\n",
        "#   plt.imshow(train_yuvImages[TRAINING_IMAGE+i,:,:,2])\n",
        "  \n",
        "# fig = plt.figure(figsize=(39, 39))\n",
        "# for i in range(output_count):\n",
        "#   fig.add_subplot(1,output_count,i+1)\n",
        "#   plt.title(\"V output\")\n",
        "#   plt.imshow(result[TRAINING_IMAGE+i,:,:,2])"
      ],
      "execution_count": 59,
      "outputs": [
        {
          "output_type": "stream",
          "text": [
            "(12, 50)\n",
            "(12, 32, 32, 2)\n"
          ],
          "name": "stdout"
        },
        {
          "output_type": "error",
          "ename": "TypeError",
          "evalue": "ignored",
          "traceback": [
            "\u001b[0;31m---------------------------------------------------------------------------\u001b[0m",
            "\u001b[0;31mTypeError\u001b[0m                                 Traceback (most recent call last)",
            "\u001b[0;32m<ipython-input-59-e2d594011643>\u001b[0m in \u001b[0;36m<module>\u001b[0;34m()\u001b[0m\n\u001b[1;32m     22\u001b[0m   \u001b[0mfig\u001b[0m\u001b[0;34m.\u001b[0m\u001b[0madd_subplot\u001b[0m\u001b[0;34m(\u001b[0m\u001b[0;36m1\u001b[0m\u001b[0;34m,\u001b[0m\u001b[0moutput_count\u001b[0m\u001b[0;34m,\u001b[0m\u001b[0mi\u001b[0m\u001b[0;34m+\u001b[0m\u001b[0;36m1\u001b[0m\u001b[0;34m)\u001b[0m\u001b[0;34m\u001b[0m\u001b[0;34m\u001b[0m\u001b[0m\n\u001b[1;32m     23\u001b[0m   \u001b[0mplt\u001b[0m\u001b[0;34m.\u001b[0m\u001b[0mtitle\u001b[0m\u001b[0;34m(\u001b[0m\u001b[0;34m\"Input\"\u001b[0m\u001b[0;34m)\u001b[0m\u001b[0;34m\u001b[0m\u001b[0;34m\u001b[0m\u001b[0m\n\u001b[0;32m---> 24\u001b[0;31m   \u001b[0mplt\u001b[0m\u001b[0;34m.\u001b[0m\u001b[0mimshow\u001b[0m\u001b[0;34m(\u001b[0m\u001b[0mpredictions\u001b[0m\u001b[0;34m[\u001b[0m\u001b[0mi\u001b[0m\u001b[0;34m]\u001b[0m\u001b[0;34m)\u001b[0m\u001b[0;34m\u001b[0m\u001b[0;34m\u001b[0m\u001b[0m\n\u001b[0m\u001b[1;32m     25\u001b[0m \u001b[0;34m\u001b[0m\u001b[0m\n\u001b[1;32m     26\u001b[0m \u001b[0;31m# fig = plt.figure(figsize=(39, 39))\u001b[0m\u001b[0;34m\u001b[0m\u001b[0;34m\u001b[0m\u001b[0;34m\u001b[0m\u001b[0m\n",
            "\u001b[0;32m/usr/local/lib/python3.6/dist-packages/matplotlib/pyplot.py\u001b[0m in \u001b[0;36mimshow\u001b[0;34m(X, cmap, norm, aspect, interpolation, alpha, vmin, vmax, origin, extent, shape, filternorm, filterrad, imlim, resample, url, data, **kwargs)\u001b[0m\n\u001b[1;32m   2675\u001b[0m         \u001b[0mfilternorm\u001b[0m\u001b[0;34m=\u001b[0m\u001b[0mfilternorm\u001b[0m\u001b[0;34m,\u001b[0m \u001b[0mfilterrad\u001b[0m\u001b[0;34m=\u001b[0m\u001b[0mfilterrad\u001b[0m\u001b[0;34m,\u001b[0m \u001b[0mimlim\u001b[0m\u001b[0;34m=\u001b[0m\u001b[0mimlim\u001b[0m\u001b[0;34m,\u001b[0m\u001b[0;34m\u001b[0m\u001b[0;34m\u001b[0m\u001b[0m\n\u001b[1;32m   2676\u001b[0m         resample=resample, url=url, **({\"data\": data} if data is not\n\u001b[0;32m-> 2677\u001b[0;31m         None else {}), **kwargs)\n\u001b[0m\u001b[1;32m   2678\u001b[0m     \u001b[0msci\u001b[0m\u001b[0;34m(\u001b[0m\u001b[0m__ret\u001b[0m\u001b[0;34m)\u001b[0m\u001b[0;34m\u001b[0m\u001b[0;34m\u001b[0m\u001b[0m\n\u001b[1;32m   2679\u001b[0m     \u001b[0;32mreturn\u001b[0m \u001b[0m__ret\u001b[0m\u001b[0;34m\u001b[0m\u001b[0;34m\u001b[0m\u001b[0m\n",
            "\u001b[0;32m/usr/local/lib/python3.6/dist-packages/matplotlib/__init__.py\u001b[0m in \u001b[0;36minner\u001b[0;34m(ax, data, *args, **kwargs)\u001b[0m\n\u001b[1;32m   1597\u001b[0m     \u001b[0;32mdef\u001b[0m \u001b[0minner\u001b[0m\u001b[0;34m(\u001b[0m\u001b[0max\u001b[0m\u001b[0;34m,\u001b[0m \u001b[0;34m*\u001b[0m\u001b[0margs\u001b[0m\u001b[0;34m,\u001b[0m \u001b[0mdata\u001b[0m\u001b[0;34m=\u001b[0m\u001b[0;32mNone\u001b[0m\u001b[0;34m,\u001b[0m \u001b[0;34m**\u001b[0m\u001b[0mkwargs\u001b[0m\u001b[0;34m)\u001b[0m\u001b[0;34m:\u001b[0m\u001b[0;34m\u001b[0m\u001b[0;34m\u001b[0m\u001b[0m\n\u001b[1;32m   1598\u001b[0m         \u001b[0;32mif\u001b[0m \u001b[0mdata\u001b[0m \u001b[0;32mis\u001b[0m \u001b[0;32mNone\u001b[0m\u001b[0;34m:\u001b[0m\u001b[0;34m\u001b[0m\u001b[0;34m\u001b[0m\u001b[0m\n\u001b[0;32m-> 1599\u001b[0;31m             \u001b[0;32mreturn\u001b[0m \u001b[0mfunc\u001b[0m\u001b[0;34m(\u001b[0m\u001b[0max\u001b[0m\u001b[0;34m,\u001b[0m \u001b[0;34m*\u001b[0m\u001b[0mmap\u001b[0m\u001b[0;34m(\u001b[0m\u001b[0msanitize_sequence\u001b[0m\u001b[0;34m,\u001b[0m \u001b[0margs\u001b[0m\u001b[0;34m)\u001b[0m\u001b[0;34m,\u001b[0m \u001b[0;34m**\u001b[0m\u001b[0mkwargs\u001b[0m\u001b[0;34m)\u001b[0m\u001b[0;34m\u001b[0m\u001b[0;34m\u001b[0m\u001b[0m\n\u001b[0m\u001b[1;32m   1600\u001b[0m \u001b[0;34m\u001b[0m\u001b[0m\n\u001b[1;32m   1601\u001b[0m         \u001b[0mbound\u001b[0m \u001b[0;34m=\u001b[0m \u001b[0mnew_sig\u001b[0m\u001b[0;34m.\u001b[0m\u001b[0mbind\u001b[0m\u001b[0;34m(\u001b[0m\u001b[0max\u001b[0m\u001b[0;34m,\u001b[0m \u001b[0;34m*\u001b[0m\u001b[0margs\u001b[0m\u001b[0;34m,\u001b[0m \u001b[0;34m**\u001b[0m\u001b[0mkwargs\u001b[0m\u001b[0;34m)\u001b[0m\u001b[0;34m\u001b[0m\u001b[0;34m\u001b[0m\u001b[0m\n",
            "\u001b[0;32m/usr/local/lib/python3.6/dist-packages/matplotlib/cbook/deprecation.py\u001b[0m in \u001b[0;36mwrapper\u001b[0;34m(*args, **kwargs)\u001b[0m\n\u001b[1;32m    367\u001b[0m                 \u001b[0;34mf\"%(removal)s.  If any parameter follows {name!r}, they \"\u001b[0m\u001b[0;34m\u001b[0m\u001b[0;34m\u001b[0m\u001b[0m\n\u001b[1;32m    368\u001b[0m                 f\"should be pass as keyword, not positionally.\")\n\u001b[0;32m--> 369\u001b[0;31m         \u001b[0;32mreturn\u001b[0m \u001b[0mfunc\u001b[0m\u001b[0;34m(\u001b[0m\u001b[0;34m*\u001b[0m\u001b[0margs\u001b[0m\u001b[0;34m,\u001b[0m \u001b[0;34m**\u001b[0m\u001b[0mkwargs\u001b[0m\u001b[0;34m)\u001b[0m\u001b[0;34m\u001b[0m\u001b[0;34m\u001b[0m\u001b[0m\n\u001b[0m\u001b[1;32m    370\u001b[0m \u001b[0;34m\u001b[0m\u001b[0m\n\u001b[1;32m    371\u001b[0m     \u001b[0;32mreturn\u001b[0m \u001b[0mwrapper\u001b[0m\u001b[0;34m\u001b[0m\u001b[0;34m\u001b[0m\u001b[0m\n",
            "\u001b[0;32m/usr/local/lib/python3.6/dist-packages/matplotlib/cbook/deprecation.py\u001b[0m in \u001b[0;36mwrapper\u001b[0;34m(*args, **kwargs)\u001b[0m\n\u001b[1;32m    367\u001b[0m                 \u001b[0;34mf\"%(removal)s.  If any parameter follows {name!r}, they \"\u001b[0m\u001b[0;34m\u001b[0m\u001b[0;34m\u001b[0m\u001b[0m\n\u001b[1;32m    368\u001b[0m                 f\"should be pass as keyword, not positionally.\")\n\u001b[0;32m--> 369\u001b[0;31m         \u001b[0;32mreturn\u001b[0m \u001b[0mfunc\u001b[0m\u001b[0;34m(\u001b[0m\u001b[0;34m*\u001b[0m\u001b[0margs\u001b[0m\u001b[0;34m,\u001b[0m \u001b[0;34m**\u001b[0m\u001b[0mkwargs\u001b[0m\u001b[0;34m)\u001b[0m\u001b[0;34m\u001b[0m\u001b[0;34m\u001b[0m\u001b[0m\n\u001b[0m\u001b[1;32m    370\u001b[0m \u001b[0;34m\u001b[0m\u001b[0m\n\u001b[1;32m    371\u001b[0m     \u001b[0;32mreturn\u001b[0m \u001b[0mwrapper\u001b[0m\u001b[0;34m\u001b[0m\u001b[0;34m\u001b[0m\u001b[0m\n",
            "\u001b[0;32m/usr/local/lib/python3.6/dist-packages/matplotlib/axes/_axes.py\u001b[0m in \u001b[0;36mimshow\u001b[0;34m(self, X, cmap, norm, aspect, interpolation, alpha, vmin, vmax, origin, extent, shape, filternorm, filterrad, imlim, resample, url, **kwargs)\u001b[0m\n\u001b[1;32m   5677\u001b[0m                               resample=resample, **kwargs)\n\u001b[1;32m   5678\u001b[0m \u001b[0;34m\u001b[0m\u001b[0m\n\u001b[0;32m-> 5679\u001b[0;31m         \u001b[0mim\u001b[0m\u001b[0;34m.\u001b[0m\u001b[0mset_data\u001b[0m\u001b[0;34m(\u001b[0m\u001b[0mX\u001b[0m\u001b[0;34m)\u001b[0m\u001b[0;34m\u001b[0m\u001b[0;34m\u001b[0m\u001b[0m\n\u001b[0m\u001b[1;32m   5680\u001b[0m         \u001b[0mim\u001b[0m\u001b[0;34m.\u001b[0m\u001b[0mset_alpha\u001b[0m\u001b[0;34m(\u001b[0m\u001b[0malpha\u001b[0m\u001b[0;34m)\u001b[0m\u001b[0;34m\u001b[0m\u001b[0;34m\u001b[0m\u001b[0m\n\u001b[1;32m   5681\u001b[0m         \u001b[0;32mif\u001b[0m \u001b[0mim\u001b[0m\u001b[0;34m.\u001b[0m\u001b[0mget_clip_path\u001b[0m\u001b[0;34m(\u001b[0m\u001b[0;34m)\u001b[0m \u001b[0;32mis\u001b[0m \u001b[0;32mNone\u001b[0m\u001b[0;34m:\u001b[0m\u001b[0;34m\u001b[0m\u001b[0;34m\u001b[0m\u001b[0m\n",
            "\u001b[0;32m/usr/local/lib/python3.6/dist-packages/matplotlib/image.py\u001b[0m in \u001b[0;36mset_data\u001b[0;34m(self, A)\u001b[0m\n\u001b[1;32m    688\u001b[0m                 or self._A.ndim == 3 and self._A.shape[-1] in [3, 4]):\n\u001b[1;32m    689\u001b[0m             raise TypeError(\"Invalid shape {} for image data\"\n\u001b[0;32m--> 690\u001b[0;31m                             .format(self._A.shape))\n\u001b[0m\u001b[1;32m    691\u001b[0m \u001b[0;34m\u001b[0m\u001b[0m\n\u001b[1;32m    692\u001b[0m         \u001b[0;32mif\u001b[0m \u001b[0mself\u001b[0m\u001b[0;34m.\u001b[0m\u001b[0m_A\u001b[0m\u001b[0;34m.\u001b[0m\u001b[0mndim\u001b[0m \u001b[0;34m==\u001b[0m \u001b[0;36m3\u001b[0m\u001b[0;34m:\u001b[0m\u001b[0;34m\u001b[0m\u001b[0;34m\u001b[0m\u001b[0m\n",
            "\u001b[0;31mTypeError\u001b[0m: Invalid shape (32, 32, 2) for image data"
          ]
        },
        {
          "output_type": "display_data",
          "data": {
            "image/png": "[encoded data removed]",
            "text/plain": [
              "<Figure size 2808x2808 with 1 Axes>"
            ]
          },
          "metadata": {
            "tags": []
          }
        }
      ]
    },
    {
      "cell_type": "code",
      "metadata": {
        "id": "qhprSwh0Zy8x",
        "colab_type": "code",
        "colab": {}
      },
      "source": [
        ""
      ],
      "execution_count": 0,
      "outputs": []
    }
  ]
}