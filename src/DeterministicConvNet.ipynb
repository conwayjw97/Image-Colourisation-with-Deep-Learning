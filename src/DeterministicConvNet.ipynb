{
  "nbformat": 4,
  "nbformat_minor": 0,
  "metadata": {
    "colab": {
      "name": "DeterministicConvNet.ipynb",
      "provenance": [],
      "collapsed_sections": [],
      "include_colab_link": true
    },
    "kernelspec": {
      "name": "python3",
      "display_name": "Python 3"
    },
    "accelerator": "GPU"
  },
  "cells": [
    {
      "cell_type": "markdown",
      "metadata": {
        "id": "view-in-github",
        "colab_type": "text"
      },
      "source": [
        "<a href=\"https://colab.research.google.com/github/conwayjw97/ImageColourizationModels/blob/master/src/DeterministicConvNet.ipynb\" target=\"_parent\"><img src=\"https://colab.research.google.com/assets/colab-badge.svg\" alt=\"Open In Colab\"/></a>"
      ]
    },
    {
      "cell_type": "markdown",
      "metadata": {
        "id": "wc7f9oUxbhDn",
        "colab_type": "text"
      },
      "source": [
        "# Global Variables"
      ]
    },
    {
      "cell_type": "code",
      "metadata": {
        "id": "GOxW6goCbgnx",
        "colab_type": "code",
        "colab": {}
      },
      "source": [
        "IMAGE_COUNT = 10000\n",
        "TRAINING_IMAGE = 5\n",
        "TEST_IMAGE = 1\n",
        "BATCH_SIZE = 32\n",
        "EPOCHS = 400"
      ],
      "execution_count": 0,
      "outputs": []
    },
    {
      "cell_type": "markdown",
      "metadata": {
        "id": "5DsadYJ_n1UW",
        "colab_type": "text"
      },
      "source": [
        "# Load and Run Tensorboard (NOT WORKING)"
      ]
    },
    {
      "cell_type": "code",
      "metadata": {
        "id": "19TtGXSJq1HH",
        "colab_type": "code",
        "colab": {}
      },
      "source": [
        "# !pip install -U tensorboardcolab\n",
        "# from tensorboardcolab import *\n",
        "# import shutil\n",
        "# tbc=TensorBoardColab()"
      ],
      "execution_count": 0,
      "outputs": []
    },
    {
      "cell_type": "markdown",
      "metadata": {
        "id": "eeMNZF0P1Ter",
        "colab_type": "text"
      },
      "source": [
        "# Import Statements"
      ]
    },
    {
      "cell_type": "code",
      "metadata": {
        "id": "Zp0eWDHK1SZM",
        "colab_type": "code",
        "outputId": "65f42ec4-20ae-4f4a-cc90-bf4d634ce156",
        "colab": {
          "base_uri": "https://localhost:8080/",
          "height": 34
        }
      },
      "source": [
        "from __future__ import absolute_import, division, print_function, unicode_literals\n",
        "try:\n",
        "  # %tensorflow_version only exists in Colab.\n",
        "  %tensorflow_version 2.x\n",
        "except Exception:\n",
        "  pass\n",
        "\n",
        "#%load_ext tensorboard\n",
        "\n",
        "import tensorflow as tf\n",
        "import datetime, os\n",
        "import matplotlib.pyplot as plt\n",
        "import numpy as np\n",
        "from tensorflow.keras import datasets, layers, models, backend"
      ],
      "execution_count": 3,
      "outputs": [
        {
          "output_type": "stream",
          "text": [
            "TensorFlow 2.x selected.\n"
          ],
          "name": "stdout"
        }
      ]
    },
    {
      "cell_type": "markdown",
      "metadata": {
        "id": "yefjUKIW1bID",
        "colab_type": "text"
      },
      "source": [
        "# Load Images"
      ]
    },
    {
      "cell_type": "code",
      "metadata": {
        "id": "3fL4xz021ahD",
        "colab_type": "code",
        "colab": {}
      },
      "source": [
        "(train_images, train_labels), (test_images, test_labels) = datasets.cifar10.load_data()\n",
        "train_images = train_images / 255.0\n",
        "test_images = test_images / 255.0"
      ],
      "execution_count": 0,
      "outputs": []
    },
    {
      "cell_type": "markdown",
      "metadata": {
        "id": "FJvz9yQW1dm6",
        "colab_type": "text"
      },
      "source": [
        "# Convert to YUV"
      ]
    },
    {
      "cell_type": "code",
      "metadata": {
        "id": "bq6UIAUp1fQz",
        "colab_type": "code",
        "colab": {}
      },
      "source": [
        "# Outputs a tensor of the same shape as the images tensor, containing the YUV \n",
        "# value of the pixels. The output is only well defined if the value in images \n",
        "# are in [0,1].\n",
        "#https://zhengtq.github.io/2018/12/27/tensorflow-disturb-yuv/\n",
        "\n",
        "train_yuvImages = tf.image.rgb_to_yuv(train_images[:IMAGE_COUNT])\n",
        "train_y = tf.expand_dims(train_yuvImages[:,:,:,0], 3)\n",
        "train_uv = train_yuvImages[:,:,:,1:]\n",
        "\n",
        "test_yuvImages = tf.image.rgb_to_yuv(test_images[:IMAGE_COUNT])\n",
        "test_y = tf.expand_dims(test_yuvImages[:,:,:,0], 3)\n",
        "test_uv = test_yuvImages[:,:,:,1:]"
      ],
      "execution_count": 0,
      "outputs": []
    },
    {
      "cell_type": "code",
      "metadata": {
        "id": "Nh1Uuu16WhOJ",
        "colab_type": "code",
        "outputId": "84850697-c536-42fc-a159-e0fe31ca4d7e",
        "colab": {
          "base_uri": "https://localhost:8080/",
          "height": 707
        }
      },
      "source": [
        "plt.figure()\n",
        "plt.title(\"Training RGB image\")\n",
        "plt.imshow(train_images[TRAINING_IMAGE])\n",
        "\n",
        "plt.figure()\n",
        "plt.title(\"Training Greyscale image\")\n",
        "plt.imshow(tf.image.grayscale_to_rgb(train_y[TRAINING_IMAGE]))\n",
        "\n",
        "fig = plt.figure()\n",
        "fig.add_subplot(1,3,1)\n",
        "plt.title(\"Training Y image\")\n",
        "plt.imshow(train_yuvImages[TRAINING_IMAGE,:,:,0])\n",
        "fig.add_subplot(1,3,2)\n",
        "plt.title(\"Training U image\")\n",
        "plt.imshow(train_yuvImages[TRAINING_IMAGE,:,:,1])\n",
        "fig.add_subplot(1,3,3)\n",
        "plt.title(\"Training V image\")\n",
        "plt.imshow(train_yuvImages[TRAINING_IMAGE,:,:,2])"
      ],
      "execution_count": 6,
      "outputs": [
        {
          "output_type": "execute_result",
          "data": {
            "text/plain": [
              "<matplotlib.image.AxesImage at 0x7fca10657ef0>"
            ]
          },
          "metadata": {
            "tags": []
          },
          "execution_count": 6
        },
        {
          "output_type": "display_data",
          "data": {
            "image/png": "[encoded data removed]",
            "text/plain": [
              "<Figure size 432x288 with 1 Axes>"
            ]
          },
          "metadata": {
            "tags": []
          }
        },
        {
          "output_type": "display_data",
          "data": {
            "image/png": "[encoded data removed]",
            "text/plain": [
              "<Figure size 432x288 with 1 Axes>"
            ]
          },
          "metadata": {
            "tags": []
          }
        },
        {
          "output_type": "display_data",
          "data": {
            "image/png": "[encoded data removed]",
            "text/plain": [
              "<Figure size 432x288 with 3 Axes>"
            ]
          },
          "metadata": {
            "tags": []
          }
        }
      ]
    },
    {
      "cell_type": "code",
      "metadata": {
        "id": "wURYDn__Xmz_",
        "colab_type": "code",
        "outputId": "3bb2c8b5-c86f-4069-c836-f3ef7c4b644e",
        "colab": {
          "base_uri": "https://localhost:8080/",
          "height": 707
        }
      },
      "source": [
        "plt.figure()\n",
        "plt.title(\"Testing RGB image\")\n",
        "plt.imshow(test_images[TEST_IMAGE])\n",
        "\n",
        "plt.figure()\n",
        "plt.title(\"Testing Greyscale image\")\n",
        "plt.imshow(tf.image.grayscale_to_rgb(test_y[TEST_IMAGE]))\n",
        "\n",
        "fig = plt.figure()\n",
        "fig.add_subplot(1,3,1)\n",
        "plt.title(\"Testing Y image\")\n",
        "plt.imshow(test_yuvImages[TEST_IMAGE,:,:,0])\n",
        "fig.add_subplot(1,3,2)\n",
        "plt.title(\"Testing U image\")\n",
        "plt.imshow(test_yuvImages[TEST_IMAGE,:,:,1])\n",
        "fig.add_subplot(1,3,3)\n",
        "plt.title(\"Testing V image\")\n",
        "plt.imshow(test_yuvImages[TEST_IMAGE,:,:,2])"
      ],
      "execution_count": 7,
      "outputs": [
        {
          "output_type": "execute_result",
          "data": {
            "text/plain": [
              "<matplotlib.image.AxesImage at 0x7fca10427da0>"
            ]
          },
          "metadata": {
            "tags": []
          },
          "execution_count": 7
        },
        {
          "output_type": "display_data",
          "data": {
            "image/png": "[encoded data removed]",
            "text/plain": [
              "<Figure size 432x288 with 1 Axes>"
            ]
          },
          "metadata": {
            "tags": []
          }
        },
        {
          "output_type": "display_data",
          "data": {
            "image/png": "[encoded data removed]",
            "text/plain": [
              "<Figure size 432x288 with 1 Axes>"
            ]
          },
          "metadata": {
            "tags": []
          }
        },
        {
          "output_type": "display_data",
          "data": {
            "image/png": "[encoded data removed]",
            "text/plain": [
              "<Figure size 432x288 with 3 Axes>"
            ]
          },
          "metadata": {
            "tags": []
          }
        }
      ]
    },
    {
      "cell_type": "markdown",
      "metadata": {
        "id": "d6t50ml5gfVl",
        "colab_type": "text"
      },
      "source": [
        "# Create the Convolutional Neural Network"
      ]
    },
    {
      "cell_type": "code",
      "metadata": {
        "id": "oNTet4bogkSD",
        "colab_type": "code",
        "outputId": "167ab69c-720f-459d-8980-dc6ae2f675a2",
        "colab": {
          "base_uri": "https://localhost:8080/",
          "height": 595
        }
      },
      "source": [
        "# Conv2D(filters (number of output filters)\n",
        "#           - determine parameter number\n",
        "#        kernel_size (size of convolution window)\n",
        "#        activation (activation function to use)\n",
        "#        padding (\"valid\" or \"same\")\n",
        "#        strides (strides of the convolution along the height and width)\n",
        "#           - strides greater than 1 will downsample\n",
        "#        input_shape (only used on the first layer of the model))\n",
        "#\n",
        "# UpSampling2D(size (upsampling factors for rows and columns))\n",
        "\n",
        "#https://github.com/emilwallner/Coloring-greyscale-images\n",
        "\n",
        "# def create_model():\n",
        "#   model = models.Sequential()\n",
        "#   model.add(layers.Conv2D(32, (3, 3), activation='relu', input_shape=(train_uv.shape[1], train_uv.shape[2], 1)))\n",
        "#   model.add(layers.Conv2D(8, (3, 3), activation='relu', padding='same', strides=2))\n",
        "#   model.add(layers.Conv2D(8, (3, 3), activation='relu', padding='same'))\n",
        "#   model.add(layers.Conv2D(16, (3, 3), activation='relu', padding='same'))\n",
        "#   model.add(layers.Conv2D(16, (3, 3), activation='relu', padding='same', strides=2))\n",
        "#   model.add(layers.Conv2D(32, (3, 3), activation='relu', padding='same'))\n",
        "#   model.add(layers.Conv2D(32, (3, 3), activation='relu', padding='same', strides=2))\n",
        "#   model.add(layers.UpSampling2D((2, 2)))\n",
        "#   model.add(layers.Conv2D(32, (3, 3), activation='relu', padding='same'))\n",
        "#   model.add(layers.UpSampling2D((2, 2)))\n",
        "#   model.add(layers.Conv2D(16, (3, 3), activation='relu', padding='same'))\n",
        "#   model.add(layers.UpSampling2D((2, 2)))\n",
        "#   model.add(layers.Conv2D(2, (3, 3), activation='tanh', padding='same'))\n",
        "#   return model\n",
        "\n",
        "def create_model():\n",
        "  model = models.Sequential()\n",
        "  model.add(layers.Conv2D(32, (4, 4), activation='relu', input_shape=(train_uv.shape[1], train_uv.shape[2], 1)))\n",
        "  model.add(layers.Conv2D(8, (4, 4), activation='relu', padding='same', strides=2))\n",
        "  model.add(layers.Conv2D(8, (4, 4), activation='relu', padding='same'))\n",
        "  model.add(layers.Conv2D(16, (4, 4), activation='relu', padding='same'))\n",
        "  model.add(layers.Conv2D(16, (4, 4), activation='relu', padding='same', strides=2))\n",
        "  model.add(layers.Conv2D(32, (4, 4), activation='relu', padding='same'))\n",
        "  model.add(layers.Conv2D(32, (4, 4), activation='relu', padding='same', strides=2))\n",
        "  model.add(layers.UpSampling2D((2, 2)))\n",
        "  model.add(layers.Conv2D(32, (4, 4), activation='relu', padding='same'))\n",
        "  model.add(layers.UpSampling2D((2, 2)))\n",
        "  model.add(layers.Conv2D(16, (4, 4), activation='relu', padding='same'))\n",
        "  model.add(layers.UpSampling2D((2, 2)))\n",
        "  model.add(layers.Conv2D(2, (4, 4), activation='tanh', padding='same'))\n",
        "  return model\n",
        "\n",
        "create_model().summary()"
      ],
      "execution_count": 8,
      "outputs": [
        {
          "output_type": "stream",
          "text": [
            "Model: \"sequential\"\n",
            "_________________________________________________________________\n",
            "Layer (type)                 Output Shape              Param #   \n",
            "=================================================================\n",
            "conv2d (Conv2D)              (None, 29, 29, 32)        544       \n",
            "_________________________________________________________________\n",
            "conv2d_1 (Conv2D)            (None, 15, 15, 8)         4104      \n",
            "_________________________________________________________________\n",
            "conv2d_2 (Conv2D)            (None, 15, 15, 8)         1032      \n",
            "_________________________________________________________________\n",
            "conv2d_3 (Conv2D)            (None, 15, 15, 16)        2064      \n",
            "_________________________________________________________________\n",
            "conv2d_4 (Conv2D)            (None, 8, 8, 16)          4112      \n",
            "_________________________________________________________________\n",
            "conv2d_5 (Conv2D)            (None, 8, 8, 32)          8224      \n",
            "_________________________________________________________________\n",
            "conv2d_6 (Conv2D)            (None, 4, 4, 32)          16416     \n",
            "_________________________________________________________________\n",
            "up_sampling2d (UpSampling2D) (None, 8, 8, 32)          0         \n",
            "_________________________________________________________________\n",
            "conv2d_7 (Conv2D)            (None, 8, 8, 32)          16416     \n",
            "_________________________________________________________________\n",
            "up_sampling2d_1 (UpSampling2 (None, 16, 16, 32)        0         \n",
            "_________________________________________________________________\n",
            "conv2d_8 (Conv2D)            (None, 16, 16, 16)        8208      \n",
            "_________________________________________________________________\n",
            "up_sampling2d_2 (UpSampling2 (None, 32, 32, 16)        0         \n",
            "_________________________________________________________________\n",
            "conv2d_9 (Conv2D)            (None, 32, 32, 2)         514       \n",
            "=================================================================\n",
            "Total params: 61,634\n",
            "Trainable params: 61,634\n",
            "Non-trainable params: 0\n",
            "_________________________________________________________________\n"
          ],
          "name": "stdout"
        }
      ]
    },
    {
      "cell_type": "markdown",
      "metadata": {
        "id": "XNez8Zy8h2YL",
        "colab_type": "text"
      },
      "source": [
        "# Compile and Train the Model"
      ]
    },
    {
      "cell_type": "code",
      "metadata": {
        "id": "LlwqYkNDh4cy",
        "colab_type": "code",
        "outputId": "276c35c9-3e0a-404b-8063-2e9091f958c0",
        "colab": {
          "base_uri": "https://localhost:8080/",
          "height": 1000
        }
      },
      "source": [
        "# fit(x (input data)\n",
        "#     y (target data)\n",
        "#     batch_size (samples per gradient update)\n",
        "#        - smaller batch size = more stochastic\n",
        "#     epochs (epochs to train the model))\n",
        "\n",
        "\n",
        "model = create_model()\n",
        "model.compile(optimizer='rmsprop',\n",
        "              loss='mse')\n",
        "\n",
        "runtime_epochs = int(EPOCHS/4)\n",
        "total_loss = []\n",
        "total_val_loss = []\n",
        "\n",
        "history = model.fit(x=train_y, y=train_uv, validation_data=(test_y, test_uv), batch_size=BATCH_SIZE, epochs=runtime_epochs)\n",
        "total_loss += history.history[\"loss\"]\n",
        "total_val_loss += history.history[\"val_loss\"]"
      ],
      "execution_count": 0,
      "outputs": [
        {
          "output_type": "stream",
          "text": [
            "Train on 10000 samples, validate on 10000 samples\n",
            "Epoch 1/100\n",
            "10000/10000 [==============================] - 9s 868us/sample - loss: 0.0036 - val_loss: 0.0036\n",
            "Epoch 2/100\n",
            "10000/10000 [==============================] - 6s 561us/sample - loss: 0.0035 - val_loss: 0.0036\n",
            "Epoch 3/100\n",
            "10000/10000 [==============================] - 6s 562us/sample - loss: 0.0034 - val_loss: 0.0035\n",
            "Epoch 4/100\n",
            "10000/10000 [==============================] - 6s 563us/sample - loss: 0.0034 - val_loss: 0.0034\n",
            "Epoch 5/100\n",
            "10000/10000 [==============================] - 6s 566us/sample - loss: 0.0034 - val_loss: 0.0034\n",
            "Epoch 6/100\n",
            "10000/10000 [==============================] - 6s 554us/sample - loss: 0.0034 - val_loss: 0.0035\n",
            "Epoch 7/100\n",
            "10000/10000 [==============================] - 6s 562us/sample - loss: 0.0033 - val_loss: 0.0038\n",
            "Epoch 8/100\n",
            "10000/10000 [==============================] - 6s 559us/sample - loss: 0.0033 - val_loss: 0.0036\n",
            "Epoch 9/100\n",
            "10000/10000 [==============================] - 6s 568us/sample - loss: 0.0033 - val_loss: 0.0035\n",
            "Epoch 10/100\n",
            "10000/10000 [==============================] - 6s 587us/sample - loss: 0.0033 - val_loss: 0.0035\n",
            "Epoch 11/100\n",
            "10000/10000 [==============================] - 6s 583us/sample - loss: 0.0032 - val_loss: 0.0034\n",
            "Epoch 12/100\n",
            "10000/10000 [==============================] - 6s 562us/sample - loss: 0.0032 - val_loss: 0.0033\n",
            "Epoch 13/100\n",
            "10000/10000 [==============================] - 6s 562us/sample - loss: 0.0032 - val_loss: 0.0034\n",
            "Epoch 14/100\n",
            "10000/10000 [==============================] - 6s 569us/sample - loss: 0.0032 - val_loss: 0.0035\n",
            "Epoch 15/100\n",
            "10000/10000 [==============================] - 6s 563us/sample - loss: 0.0031 - val_loss: 0.0033\n",
            "Epoch 16/100\n",
            "10000/10000 [==============================] - 6s 564us/sample - loss: 0.0031 - val_loss: 0.0033\n",
            "Epoch 17/100\n",
            "10000/10000 [==============================] - 6s 565us/sample - loss: 0.0031 - val_loss: 0.0033\n",
            "Epoch 18/100\n",
            "10000/10000 [==============================] - 6s 559us/sample - loss: 0.0030 - val_loss: 0.0034\n",
            "Epoch 19/100\n",
            "10000/10000 [==============================] - 6s 566us/sample - loss: 0.0030 - val_loss: 0.0035\n",
            "Epoch 20/100\n",
            "10000/10000 [==============================] - 6s 564us/sample - loss: 0.0030 - val_loss: 0.0034\n",
            "Epoch 21/100\n",
            "10000/10000 [==============================] - 6s 562us/sample - loss: 0.0029 - val_loss: 0.0034\n",
            "Epoch 22/100\n",
            "10000/10000 [==============================] - 6s 563us/sample - loss: 0.0029 - val_loss: 0.0033\n",
            "Epoch 23/100\n",
            "10000/10000 [==============================] - 6s 562us/sample - loss: 0.0028 - val_loss: 0.0034\n",
            "Epoch 24/100\n",
            "10000/10000 [==============================] - 6s 560us/sample - loss: 0.0028 - val_loss: 0.0035\n",
            "Epoch 25/100\n",
            "10000/10000 [==============================] - 6s 566us/sample - loss: 0.0028 - val_loss: 0.0035\n",
            "Epoch 26/100\n",
            "10000/10000 [==============================] - 6s 563us/sample - loss: 0.0027 - val_loss: 0.0034\n",
            "Epoch 27/100\n",
            "10000/10000 [==============================] - 6s 560us/sample - loss: 0.0027 - val_loss: 0.0034\n",
            "Epoch 28/100\n",
            "10000/10000 [==============================] - 6s 563us/sample - loss: 0.0027 - val_loss: 0.0035\n",
            "Epoch 29/100\n",
            "10000/10000 [==============================] - 6s 565us/sample - loss: 0.0026 - val_loss: 0.0036\n",
            "Epoch 30/100\n",
            "10000/10000 [==============================] - 6s 565us/sample - loss: 0.0026 - val_loss: 0.0035\n",
            "Epoch 31/100\n",
            "10000/10000 [==============================] - 6s 564us/sample - loss: 0.0026 - val_loss: 0.0035\n",
            "Epoch 32/100\n",
            "10000/10000 [==============================] - 6s 567us/sample - loss: 0.0025 - val_loss: 0.0035\n",
            "Epoch 33/100\n",
            "10000/10000 [==============================] - 6s 581us/sample - loss: 0.0025 - val_loss: 0.0036\n",
            "Epoch 34/100\n",
            "10000/10000 [==============================] - 6s 560us/sample - loss: 0.0025 - val_loss: 0.0039\n",
            "Epoch 35/100\n",
            "10000/10000 [==============================] - 6s 569us/sample - loss: 0.0024 - val_loss: 0.0037\n",
            "Epoch 36/100\n",
            "10000/10000 [==============================] - 6s 561us/sample - loss: 0.0024 - val_loss: 0.0036\n",
            "Epoch 37/100\n",
            "10000/10000 [==============================] - 6s 564us/sample - loss: 0.0024 - val_loss: 0.0037\n",
            "Epoch 38/100\n",
            "10000/10000 [==============================] - 6s 564us/sample - loss: 0.0024 - val_loss: 0.0037\n",
            "Epoch 39/100\n",
            "10000/10000 [==============================] - 6s 565us/sample - loss: 0.0023 - val_loss: 0.0036\n",
            "Epoch 40/100\n",
            "10000/10000 [==============================] - 6s 560us/sample - loss: 0.0023 - val_loss: 0.0037\n",
            "Epoch 41/100\n",
            "10000/10000 [==============================] - 6s 564us/sample - loss: 0.0023 - val_loss: 0.0038\n",
            "Epoch 42/100\n",
            "10000/10000 [==============================] - 6s 563us/sample - loss: 0.0023 - val_loss: 0.0039\n",
            "Epoch 43/100\n",
            "10000/10000 [==============================] - 6s 561us/sample - loss: 0.0023 - val_loss: 0.0036\n",
            "Epoch 44/100\n",
            "10000/10000 [==============================] - 6s 566us/sample - loss: 0.0023 - val_loss: 0.0037\n",
            "Epoch 45/100\n",
            "10000/10000 [==============================] - 6s 563us/sample - loss: 0.0022 - val_loss: 0.0036\n",
            "Epoch 46/100\n",
            "10000/10000 [==============================] - 6s 567us/sample - loss: 0.0022 - val_loss: 0.0037\n",
            "Epoch 47/100\n",
            "10000/10000 [==============================] - 6s 566us/sample - loss: 0.0022 - val_loss: 0.0037\n",
            "Epoch 48/100\n",
            "10000/10000 [==============================] - 6s 563us/sample - loss: 0.0022 - val_loss: 0.0037\n",
            "Epoch 49/100\n",
            "10000/10000 [==============================] - 6s 563us/sample - loss: 0.0022 - val_loss: 0.0037\n",
            "Epoch 50/100\n",
            "10000/10000 [==============================] - 6s 563us/sample - loss: 0.0022 - val_loss: 0.0036\n",
            "Epoch 51/100\n",
            "10000/10000 [==============================] - 6s 564us/sample - loss: 0.0021 - val_loss: 0.0040\n",
            "Epoch 52/100\n",
            "10000/10000 [==============================] - 6s 566us/sample - loss: 0.0021 - val_loss: 0.0038\n",
            "Epoch 53/100\n",
            "10000/10000 [==============================] - 6s 562us/sample - loss: 0.0021 - val_loss: 0.0039\n",
            "Epoch 54/100\n",
            "10000/10000 [==============================] - 6s 564us/sample - loss: 0.0021 - val_loss: 0.0036\n",
            "Epoch 55/100\n",
            "10000/10000 [==============================] - 6s 564us/sample - loss: 0.0021 - val_loss: 0.0038\n",
            "Epoch 56/100\n",
            "10000/10000 [==============================] - 6s 564us/sample - loss: 0.0021 - val_loss: 0.0037\n",
            "Epoch 57/100\n",
            "10000/10000 [==============================] - 6s 568us/sample - loss: 0.0021 - val_loss: 0.0037\n",
            "Epoch 58/100\n",
            "10000/10000 [==============================] - 6s 560us/sample - loss: 0.0021 - val_loss: 0.0039\n",
            "Epoch 59/100\n",
            "10000/10000 [==============================] - 6s 568us/sample - loss: 0.0021 - val_loss: 0.0038\n",
            "Epoch 60/100\n",
            "10000/10000 [==============================] - 6s 565us/sample - loss: 0.0021 - val_loss: 0.0040\n",
            "Epoch 61/100\n",
            "10000/10000 [==============================] - 6s 566us/sample - loss: 0.0021 - val_loss: 0.0042\n",
            "Epoch 62/100\n",
            "10000/10000 [==============================] - 6s 561us/sample - loss: 0.0020 - val_loss: 0.0039\n",
            "Epoch 63/100\n",
            "10000/10000 [==============================] - 6s 566us/sample - loss: 0.0020 - val_loss: 0.0038\n",
            "Epoch 64/100\n",
            "10000/10000 [==============================] - 6s 570us/sample - loss: 0.0020 - val_loss: 0.0039\n",
            "Epoch 65/100\n",
            "10000/10000 [==============================] - 6s 586us/sample - loss: 0.0020 - val_loss: 0.0040\n",
            "Epoch 66/100\n",
            "10000/10000 [==============================] - 6s 579us/sample - loss: 0.0020 - val_loss: 0.0038\n",
            "Epoch 67/100\n",
            "10000/10000 [==============================] - 6s 567us/sample - loss: 0.0020 - val_loss: 0.0039\n",
            "Epoch 68/100\n",
            "10000/10000 [==============================] - 6s 562us/sample - loss: 0.0020 - val_loss: 0.0038\n",
            "Epoch 69/100\n",
            "10000/10000 [==============================] - 6s 563us/sample - loss: 0.0020 - val_loss: 0.0038\n",
            "Epoch 70/100\n",
            "10000/10000 [==============================] - 6s 570us/sample - loss: 0.0020 - val_loss: 0.0037\n",
            "Epoch 71/100\n",
            "10000/10000 [==============================] - 6s 565us/sample - loss: 0.0020 - val_loss: 0.0037\n",
            "Epoch 72/100\n",
            "10000/10000 [==============================] - 6s 562us/sample - loss: 0.0020 - val_loss: 0.0041\n",
            "Epoch 73/100\n",
            "10000/10000 [==============================] - 6s 566us/sample - loss: 0.0020 - val_loss: 0.0038\n",
            "Epoch 74/100\n",
            "10000/10000 [==============================] - 6s 568us/sample - loss: 0.0020 - val_loss: 0.0038\n",
            "Epoch 75/100\n",
            "10000/10000 [==============================] - 6s 564us/sample - loss: 0.0020 - val_loss: 0.0039\n",
            "Epoch 76/100\n",
            "10000/10000 [==============================] - 6s 559us/sample - loss: 0.0020 - val_loss: 0.0039\n",
            "Epoch 77/100\n",
            "10000/10000 [==============================] - 6s 565us/sample - loss: 0.0019 - val_loss: 0.0038\n",
            "Epoch 78/100\n",
            "10000/10000 [==============================] - 6s 572us/sample - loss: 0.0019 - val_loss: 0.0038\n",
            "Epoch 79/100\n",
            "10000/10000 [==============================] - 6s 562us/sample - loss: 0.0019 - val_loss: 0.0038\n",
            "Epoch 80/100\n",
            "10000/10000 [==============================] - 6s 561us/sample - loss: 0.0019 - val_loss: 0.0037\n",
            "Epoch 81/100\n",
            "10000/10000 [==============================] - 6s 565us/sample - loss: 0.0019 - val_loss: 0.0038\n",
            "Epoch 82/100\n",
            "10000/10000 [==============================] - 6s 568us/sample - loss: 0.0019 - val_loss: 0.0038\n",
            "Epoch 83/100\n",
            "10000/10000 [==============================] - 6s 565us/sample - loss: 0.0019 - val_loss: 0.0037\n",
            "Epoch 84/100\n",
            "10000/10000 [==============================] - 6s 566us/sample - loss: 0.0019 - val_loss: 0.0038\n",
            "Epoch 85/100\n",
            "10000/10000 [==============================] - 6s 553us/sample - loss: 0.0019 - val_loss: 0.0039\n",
            "Epoch 86/100\n",
            "10000/10000 [==============================] - 6s 562us/sample - loss: 0.0019 - val_loss: 0.0038\n",
            "Epoch 87/100\n",
            "10000/10000 [==============================] - 6s 582us/sample - loss: 0.0019 - val_loss: 0.0040\n",
            "Epoch 88/100\n",
            "10000/10000 [==============================] - 6s 556us/sample - loss: 0.0019 - val_loss: 0.0040\n",
            "Epoch 89/100\n",
            "10000/10000 [==============================] - 6s 560us/sample - loss: 0.0019 - val_loss: 0.0038\n",
            "Epoch 90/100\n",
            "10000/10000 [==============================] - 6s 563us/sample - loss: 0.0019 - val_loss: 0.0039\n",
            "Epoch 91/100\n",
            "10000/10000 [==============================] - 6s 555us/sample - loss: 0.0019 - val_loss: 0.0038\n",
            "Epoch 92/100\n",
            "10000/10000 [==============================] - 6s 558us/sample - loss: 0.0019 - val_loss: 0.0037\n",
            "Epoch 93/100\n",
            "10000/10000 [==============================] - 6s 561us/sample - loss: 0.0019 - val_loss: 0.0040\n",
            "Epoch 94/100\n",
            "10000/10000 [==============================] - 6s 558us/sample - loss: 0.0019 - val_loss: 0.0039\n",
            "Epoch 95/100\n",
            "10000/10000 [==============================] - 6s 561us/sample - loss: 0.0019 - val_loss: 0.0038\n",
            "Epoch 96/100\n",
            "10000/10000 [==============================] - 6s 560us/sample - loss: 0.0019 - val_loss: 0.0038\n",
            "Epoch 97/100\n",
            "10000/10000 [==============================] - 6s 559us/sample - loss: 0.0019 - val_loss: 0.0039\n",
            "Epoch 98/100\n",
            "10000/10000 [==============================] - 6s 558us/sample - loss: 0.0018 - val_loss: 0.0039\n",
            "Epoch 99/100\n",
            " 9952/10000 [============================>.] - ETA: 0s - loss: 0.0018"
          ],
          "name": "stdout"
        }
      ]
    },
    {
      "cell_type": "code",
      "metadata": {
        "id": "v3OLa6Ojprhe",
        "colab_type": "code",
        "colab": {}
      },
      "source": [
        "history = model.fit(x=train_y, y=train_uv, validation_data=(test_y, test_uv), batch_size=BATCH_SIZE, epochs=runtime_epochs)\n",
        "total_loss += history.history[\"loss\"]\n",
        "total_val_loss += history.history[\"val_loss\"]"
      ],
      "execution_count": 0,
      "outputs": []
    },
    {
      "cell_type": "code",
      "metadata": {
        "id": "xT_niziDpsU2",
        "colab_type": "code",
        "colab": {}
      },
      "source": [
        "history = model.fit(x=train_y, y=train_uv, validation_data=(test_y, test_uv), batch_size=BATCH_SIZE, epochs=runtime_epochs)\n",
        "total_loss += history.history[\"loss\"]\n",
        "total_val_loss += history.history[\"val_loss\"]"
      ],
      "execution_count": 0,
      "outputs": []
    },
    {
      "cell_type": "code",
      "metadata": {
        "id": "S5zQyoRxpxze",
        "colab_type": "code",
        "colab": {}
      },
      "source": [
        "history = model.fit(x=train_y, y=train_uv, validation_data=(test_y, test_uv), batch_size=BATCH_SIZE, epochs=runtime_epochs)\n",
        "total_loss += history.history[\"loss\"]\n",
        "total_val_loss += history.history[\"val_loss\"]"
      ],
      "execution_count": 0,
      "outputs": []
    },
    {
      "cell_type": "markdown",
      "metadata": {
        "id": "k2gH7HJlyFN2",
        "colab_type": "text"
      },
      "source": [
        "# Loss Function Results"
      ]
    },
    {
      "cell_type": "code",
      "metadata": {
        "id": "deky44aKxgRs",
        "colab_type": "code",
        "colab": {}
      },
      "source": [
        "fig = plt.figure()\n",
        "plt.title(\"Training and Testing Loss over Epochs\")\n",
        "plt.plot(total_loss, label=\"Training Image Loss\")\n",
        "plt.plot(total_val_loss, label=\"Testing Image Loss\")\n",
        "plt.xlabel('Epoch')\n",
        "plt.ylabel('Loss')\n",
        "plt.legend()"
      ],
      "execution_count": 0,
      "outputs": []
    },
    {
      "cell_type": "markdown",
      "metadata": {
        "id": "9FAnTEgAiNhF",
        "colab_type": "text"
      },
      "source": [
        "# Training Results"
      ]
    },
    {
      "cell_type": "code",
      "metadata": {
        "id": "MhInApd8iOhS",
        "colab_type": "code",
        "colab": {}
      },
      "source": [
        "print(model.evaluate(train_y, train_uv, batch_size=BATCH_SIZE))\n",
        "output = model.predict(train_y)\n",
        "result = np.zeros((32, 32, 3))\n",
        "result[:,:,0] = train_y[TRAINING_IMAGE,:,:,0]\n",
        "result[:,:,1:] = output[TRAINING_IMAGE]\n",
        "\n",
        "plt.title(\"Training image\")\n",
        "plt.imshow(tf.image.grayscale_to_rgb(train_y[TRAINING_IMAGE]))\n",
        "\n",
        "plt.figure()\n",
        "plt.title(\"Training image converted back to RGB\")\n",
        "plt.imshow(tf.image.yuv_to_rgb(result))\n",
        "\n",
        "plt.figure()\n",
        "plt.title(\"Original\")\n",
        "plt.imshow(train_images[TRAINING_IMAGE])\n",
        "\n",
        "fig = plt.figure()\n",
        "fig.add_subplot(1,3,1)\n",
        "plt.title(\"Y original\")\n",
        "plt.imshow(train_yuvImages[TRAINING_IMAGE,:,:,0])\n",
        "fig.add_subplot(1,3,2)\n",
        "plt.title(\"U original\")\n",
        "plt.imshow(train_yuvImages[TRAINING_IMAGE,:,:,1])\n",
        "fig.add_subplot(1,3,3)\n",
        "plt.title(\"V original\")\n",
        "plt.imshow(train_yuvImages[TRAINING_IMAGE,:,:,2])\n",
        "\n",
        "fig = plt.figure()\n",
        "fig.add_subplot(1,3,1)\n",
        "plt.title(\"Y result\")\n",
        "plt.imshow(result[:,:,0])\n",
        "fig.add_subplot(1,3,2)\n",
        "plt.title(\"U result\")\n",
        "plt.imshow(result[:,:,1])\n",
        "fig.add_subplot(1,3,3)\n",
        "plt.title(\"V result\")\n",
        "plt.imshow(result[:,:,2])"
      ],
      "execution_count": 0,
      "outputs": []
    },
    {
      "cell_type": "markdown",
      "metadata": {
        "id": "Dz_GGqJkYUpz",
        "colab_type": "text"
      },
      "source": [
        "# Testing Results"
      ]
    },
    {
      "cell_type": "code",
      "metadata": {
        "id": "-2iiVxDblx8f",
        "colab_type": "code",
        "colab": {}
      },
      "source": [
        "print(model.evaluate(test_y, test_uv, batch_size=BATCH_SIZE))\n",
        "output = model.predict(test_y)\n",
        "result = np.zeros((32, 32, 3))\n",
        "result[:,:,0] = test_y[TEST_IMAGE,:,:,0]\n",
        "result[:,:,1:] = output[TEST_IMAGE]\n",
        "\n",
        "plt.title(\"Testing image\")\n",
        "plt.imshow(tf.image.grayscale_to_rgb(test_y[TEST_IMAGE]))\n",
        "\n",
        "plt.figure()\n",
        "plt.title(\"Testing image converted back to RGB\")\n",
        "plt.imshow(tf.image.yuv_to_rgb(result))\n",
        "\n",
        "plt.figure()\n",
        "plt.title(\"Original\")\n",
        "plt.imshow(test_images[TEST_IMAGE])\n",
        "\n",
        "fig = plt.figure()\n",
        "fig.add_subplot(1,3,1)\n",
        "plt.title(\"Y original\")\n",
        "plt.imshow(test_yuvImages[TEST_IMAGE,:,:,0])\n",
        "fig.add_subplot(1,3,2)\n",
        "plt.title(\"U original\")\n",
        "plt.imshow(test_yuvImages[TEST_IMAGE,:,:,1])\n",
        "fig.add_subplot(1,3,3)\n",
        "plt.title(\"V original\")\n",
        "plt.imshow(test_yuvImages[TEST_IMAGE,:,:,2])\n",
        "\n",
        "fig = plt.figure()\n",
        "fig.add_subplot(1,3,1)\n",
        "plt.title(\"Y result\")\n",
        "plt.imshow(result[:,:,0])\n",
        "fig.add_subplot(1,3,2)\n",
        "plt.title(\"U result\")\n",
        "plt.imshow(result[:,:,1])\n",
        "fig.add_subplot(1,3,3)\n",
        "plt.title(\"V result\")\n",
        "plt.imshow(result[:,:,2])"
      ],
      "execution_count": 0,
      "outputs": []
    },
    {
      "cell_type": "code",
      "metadata": {
        "id": "7KJkiS2CZMhX",
        "colab_type": "code",
        "colab": {}
      },
      "source": [
        ""
      ],
      "execution_count": 0,
      "outputs": []
    }
  ]
}