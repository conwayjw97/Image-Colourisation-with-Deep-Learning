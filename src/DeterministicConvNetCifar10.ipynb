{
  "nbformat": 4,
  "nbformat_minor": 0,
  "metadata": {
    "colab": {
      "name": "DeterministicConvNetCifar10.ipynb",
      "provenance": [],
      "collapsed_sections": [],
      "machine_shape": "hm",
      "include_colab_link": true
    },
    "kernelspec": {
      "name": "python3",
      "display_name": "Python 3"
    },
    "accelerator": "GPU"
  },
  "cells": [
    {
      "cell_type": "markdown",
      "metadata": {
        "id": "view-in-github",
        "colab_type": "text"
      },
      "source": [
        "<a href=\"https://colab.research.google.com/github/conwayjw97/ImageColourizationModels/blob/master/src/DeterministicConvNetCifar10.ipynb\" target=\"_parent\"><img src=\"https://colab.research.google.com/assets/colab-badge.svg\" alt=\"Open In Colab\"/></a>"
      ]
    },
    {
      "cell_type": "markdown",
      "metadata": {
        "id": "wc7f9oUxbhDn",
        "colab_type": "text"
      },
      "source": [
        "# Global Variables"
      ]
    },
    {
      "cell_type": "code",
      "metadata": {
        "id": "GOxW6goCbgnx",
        "colab_type": "code",
        "colab": {}
      },
      "source": [
        "IMAGE_COUNT = 50000\n",
        "TRAINING_IMAGE = 0\n",
        "TEST_IMAGE = 0\n",
        "BATCH_SIZE = 1000\n",
        "CLASSIFICATION_EPOCHS = 30\n",
        "COLOURISATION_EPOCHS = 100\n",
        "LOAD_CLASSIFICATION_MODEL = False\n",
        "LOAD_COLOURISATION_MODEL = False"
      ],
      "execution_count": 0,
      "outputs": []
    },
    {
      "cell_type": "markdown",
      "metadata": {
        "id": "eeMNZF0P1Ter",
        "colab_type": "text"
      },
      "source": [
        "# Import Statements"
      ]
    },
    {
      "cell_type": "code",
      "metadata": {
        "id": "Zp0eWDHK1SZM",
        "colab_type": "code",
        "outputId": "bff41bb9-7181-47a2-fad0-f983f0196a9e",
        "colab": {
          "base_uri": "https://localhost:8080/",
          "height": 141
        }
      },
      "source": [
        "from __future__ import absolute_import, division, print_function, unicode_literals\n",
        "try:\n",
        "  # %tensorflow_version only exists in Colab.\n",
        "  %tensorflow_version 2.x\n",
        "except Exception:\n",
        "  pass\n",
        "\n",
        "#%load_ext tensorboard\n",
        "\n",
        "import tensorflow as tf\n",
        "import datetime, os\n",
        "import matplotlib.pyplot as plt\n",
        "import numpy as np\n",
        "import math\n",
        "from scipy.ndimage.filters import gaussian_filter1d\n",
        "from tensorflow.keras import datasets, layers, models, backend, utils, optimizers\n",
        "from tensorflow.keras.preprocessing.image import ImageDataGenerator\n",
        "from google.colab import drive\n",
        "\n",
        "drive.mount(\"/content/gdrive\", force_remount=True)\n",
        "base_dir = \"/content/gdrive/My Drive/DeterministicConvNetCifar10/\""
      ],
      "execution_count": 2,
      "outputs": [
        {
          "output_type": "stream",
          "text": [
            "TensorFlow 2.x selected.\n",
            "Go to this URL in a browser: https://accounts.google.com/o/oauth2/auth?client_id=947318989803-6bn6qk8qdgf4n4g3pfee6491hc0brc4i.apps.googleusercontent.com&redirect_uri=urn%3aietf%3awg%3aoauth%3a2.0%3aoob&response_type=code&scope=email%20https%3a%2f%2fwww.googleapis.com%2fauth%2fdocs.test%20https%3a%2f%2fwww.googleapis.com%2fauth%2fdrive%20https%3a%2f%2fwww.googleapis.com%2fauth%2fdrive.photos.readonly%20https%3a%2f%2fwww.googleapis.com%2fauth%2fpeopleapi.readonly\n",
            "\n",
            "Enter your authorization code:\n",
            "··········\n",
            "Mounted at /content/gdrive\n"
          ],
          "name": "stdout"
        }
      ]
    },
    {
      "cell_type": "markdown",
      "metadata": {
        "id": "yefjUKIW1bID",
        "colab_type": "text"
      },
      "source": [
        "# Load Dataset"
      ]
    },
    {
      "cell_type": "code",
      "metadata": {
        "id": "3fL4xz021ahD",
        "colab_type": "code",
        "colab": {
          "base_uri": "https://localhost:8080/",
          "height": 52
        },
        "outputId": "aa52ea28-0345-405d-ff7d-5b86a5518f9e"
      },
      "source": [
        "(train_images, train_labels), (test_images, test_labels) = datasets.cifar10.load_data()\n",
        "train_images = train_images / 255.0\n",
        "test_images = test_images / 255.0"
      ],
      "execution_count": 3,
      "outputs": [
        {
          "output_type": "stream",
          "text": [
            "Downloading data from https://www.cs.toronto.edu/~kriz/cifar-10-python.tar.gz\n",
            "170500096/170498071 [==============================] - 2s 0us/step\n"
          ],
          "name": "stdout"
        }
      ]
    },
    {
      "cell_type": "markdown",
      "metadata": {
        "id": "3HRiS8WTYj0Z",
        "colab_type": "text"
      },
      "source": [
        "# Convert Classification Images to Grayscale"
      ]
    },
    {
      "cell_type": "code",
      "metadata": {
        "id": "9MF98m-RYm59",
        "colab_type": "code",
        "colab": {}
      },
      "source": [
        "train_gray_images = tf.image.rgb_to_grayscale(train_images[:IMAGE_COUNT])\n",
        "test_gray_images = tf.image.rgb_to_grayscale(test_images[:IMAGE_COUNT])"
      ],
      "execution_count": 0,
      "outputs": []
    },
    {
      "cell_type": "markdown",
      "metadata": {
        "id": "QrQ8eTw9P5nN",
        "colab_type": "text"
      },
      "source": [
        "# Create the Classification CNN\n",
        "\n"
      ]
    },
    {
      "cell_type": "code",
      "metadata": {
        "id": "lRRSajDzP49o",
        "colab_type": "code",
        "outputId": "7744e7c8-f030-4883-f956-88bcf53c2baf",
        "colab": {
          "base_uri": "https://localhost:8080/",
          "height": 573
        }
      },
      "source": [
        "# 3-block vgg style architecture\n",
        "# https://arxiv.org/abs/1409.1556\n",
        "def create_classification_model():\n",
        "  model = models.Sequential()\n",
        "  # Feature detection layers\n",
        "  model.add(layers.Conv2D(32, (3, 3), activation='relu', kernel_initializer='he_uniform', padding='same', input_shape=(train_gray_images.shape[1], train_gray_images.shape[2], train_gray_images.shape[3])))\n",
        "  model.add(layers.Conv2D(32, (3, 3), activation='relu', kernel_initializer='he_uniform', padding='same'))\n",
        "  model.add(layers.MaxPooling2D((2, 2)))\n",
        "  model.add(layers.Conv2D(64, (3, 3), activation='relu', kernel_initializer='he_uniform', padding='same'))\n",
        "  model.add(layers.Conv2D(64, (3, 3), activation='relu', kernel_initializer='he_uniform', padding='same'))\n",
        "  model.add(layers.MaxPooling2D((2, 2)))\n",
        "  model.add(layers.Conv2D(128, (3, 3), activation='relu', kernel_initializer='he_uniform', padding='same'))\n",
        "  model.add(layers.Conv2D(128, (3, 3), activation='relu', kernel_initializer='he_uniform', padding='same'))\n",
        "  model.add(layers.MaxPooling2D((2, 2)))\n",
        "  # Classifier layers\n",
        "  model.add(layers.Flatten())\n",
        "  model.add(layers.Dense(128, activation='relu', kernel_initializer='he_uniform'))\n",
        "  model.add(layers.Dense(10, activation='softmax'))\n",
        "  opt = optimizers.SGD(lr=0.001, momentum=0.9)\n",
        "  model.compile(optimizer=opt, loss='categorical_crossentropy', metrics=['accuracy'])\n",
        "  return model\n",
        "\n",
        "create_classification_model().summary()"
      ],
      "execution_count": 5,
      "outputs": [
        {
          "output_type": "stream",
          "text": [
            "Model: \"sequential\"\n",
            "_________________________________________________________________\n",
            "Layer (type)                 Output Shape              Param #   \n",
            "=================================================================\n",
            "conv2d (Conv2D)              (None, 32, 32, 32)        320       \n",
            "_________________________________________________________________\n",
            "conv2d_1 (Conv2D)            (None, 32, 32, 32)        9248      \n",
            "_________________________________________________________________\n",
            "max_pooling2d (MaxPooling2D) (None, 16, 16, 32)        0         \n",
            "_________________________________________________________________\n",
            "conv2d_2 (Conv2D)            (None, 16, 16, 64)        18496     \n",
            "_________________________________________________________________\n",
            "conv2d_3 (Conv2D)            (None, 16, 16, 64)        36928     \n",
            "_________________________________________________________________\n",
            "max_pooling2d_1 (MaxPooling2 (None, 8, 8, 64)          0         \n",
            "_________________________________________________________________\n",
            "conv2d_4 (Conv2D)            (None, 8, 8, 128)         73856     \n",
            "_________________________________________________________________\n",
            "conv2d_5 (Conv2D)            (None, 8, 8, 128)         147584    \n",
            "_________________________________________________________________\n",
            "max_pooling2d_2 (MaxPooling2 (None, 4, 4, 128)         0         \n",
            "_________________________________________________________________\n",
            "flatten (Flatten)            (None, 2048)              0         \n",
            "_________________________________________________________________\n",
            "dense (Dense)                (None, 128)               262272    \n",
            "_________________________________________________________________\n",
            "dense_1 (Dense)              (None, 10)                1290      \n",
            "=================================================================\n",
            "Total params: 549,994\n",
            "Trainable params: 549,994\n",
            "Non-trainable params: 0\n",
            "_________________________________________________________________\n"
          ],
          "name": "stdout"
        }
      ]
    },
    {
      "cell_type": "markdown",
      "metadata": {
        "id": "NsX83fx9RQDd",
        "colab_type": "text"
      },
      "source": [
        "# Train the Classification Model"
      ]
    },
    {
      "cell_type": "code",
      "metadata": {
        "id": "HnNteISdRTn_",
        "colab_type": "code",
        "outputId": "422c7cf0-ed3e-488d-9e48-b8bf3cd4e669",
        "colab": {
          "base_uri": "https://localhost:8080/",
          "height": 1000
        }
      },
      "source": [
        "def train_image_loader(x_images, y_labels, batch_size):\n",
        "  datagen = ImageDataGenerator(horizontal_flip=True, rotation_range=45, width_shift_range=0.1, brightness_range=(0.8, 1.0), zoom_range=[0.5, 1.5])\n",
        "  datagen.fit(x_images)\n",
        "  # Keras needs the generator to loop infinitely\n",
        "  while True:\n",
        "    for x_batch, y_batch in datagen.flow(x_images, y_labels, batch_size=batch_size):\n",
        "      print(\"\\nx_batch.shape: \", x_batch.shape, \" - y_batch.shape: \", y_batch.shape)\n",
        "      yield (x_batch, y_batch)  \n",
        "\n",
        "def test_image_loader(x_images, y_labels, batch_size):\n",
        "  datagen = ImageDataGenerator()\n",
        "  # Keras needs the generator to loop infinitely\n",
        "  while True:\n",
        "    for x_batch, y_batch in datagen.flow(x_images, y_labels, batch_size=batch_size):\n",
        "      yield (x_batch, y_batch) \n",
        "\n",
        "model = create_classification_model()\n",
        "checkpoint_dir = os.path.dirname(base_dir + \"classification.ckpt\")\n",
        "\n",
        "if(LOAD_CLASSIFICATION_MODEL):\n",
        "  model.load_weights(checkpoint_dir)\n",
        "  total_loss, total_accuracy = model.evaluate(test_gray_images, utils.to_categorical(test_labels), verbose=2)\n",
        "  total_loss = np.array(total_loss)\n",
        "  total_accuracy = np.array(total_accuracy)\n",
        "else:\n",
        "  datagen = ImageDataGenerator(width_shift_range=0.1, height_shift_range=0.1, horizontal_flip=True)\n",
        "  train_iterator = datagen.flow(train_gray_images, utils.to_categorical(train_labels), batch_size=BATCH_SIZE)\n",
        "  history = model.fit_generator(train_iterator, steps_per_epoch=int(train_images.shape[0]/BATCH_SIZE), epochs=CLASSIFICATION_EPOCHS, validation_data=(test_gray_images, utils.to_categorical(test_labels)), validation_steps=int(test_gray_images.shape[0]/BATCH_SIZE))\n",
        "  model.save_weights(checkpoint_dir)\n",
        "  total_loss = history.history[\"loss\"]\n",
        "  total_val_loss = history.history[\"val_loss\"]\n",
        "  total_accuracy = history.history[\"accuracy\"]\n",
        "  total_val_accuracy = history.history[\"val_accuracy\"]"
      ],
      "execution_count": 25,
      "outputs": [
        {
          "output_type": "stream",
          "text": [
            "Epoch 1/30\n",
            "50/50 [==============================] - 11s 230ms/step - loss: 2.3116 - accuracy: 0.1400 - val_loss: 2.2418 - val_accuracy: 0.1932\n",
            "Epoch 2/30\n",
            "50/50 [==============================] - 9s 177ms/step - loss: 2.2036 - accuracy: 0.2113 - val_loss: 2.1508 - val_accuracy: 0.2365\n",
            "Epoch 3/30\n",
            "50/50 [==============================] - 9s 177ms/step - loss: 2.1306 - accuracy: 0.2353 - val_loss: 2.0786 - val_accuracy: 0.2614\n",
            "Epoch 4/30\n",
            "50/50 [==============================] - 9s 176ms/step - loss: 2.0735 - accuracy: 0.2567 - val_loss: 2.0126 - val_accuracy: 0.2956\n",
            "Epoch 5/30\n",
            "50/50 [==============================] - 9s 183ms/step - loss: 2.0160 - accuracy: 0.2807 - val_loss: 1.9504 - val_accuracy: 0.3141\n",
            "Epoch 6/30\n",
            "50/50 [==============================] - 9s 178ms/step - loss: 1.9719 - accuracy: 0.3038 - val_loss: 1.9102 - val_accuracy: 0.3275\n",
            "Epoch 7/30\n",
            "50/50 [==============================] - 9s 177ms/step - loss: 1.9313 - accuracy: 0.3180 - val_loss: 1.8594 - val_accuracy: 0.3533\n",
            "Epoch 8/30\n",
            "50/50 [==============================] - 9s 178ms/step - loss: 1.8857 - accuracy: 0.3331 - val_loss: 1.8388 - val_accuracy: 0.3515\n",
            "Epoch 9/30\n",
            "50/50 [==============================] - 9s 176ms/step - loss: 1.8656 - accuracy: 0.3374 - val_loss: 1.7670 - val_accuracy: 0.3867\n",
            "Epoch 10/30\n",
            "50/50 [==============================] - 9s 178ms/step - loss: 1.8237 - accuracy: 0.3549 - val_loss: 1.7695 - val_accuracy: 0.3820\n",
            "Epoch 11/30\n",
            "50/50 [==============================] - 9s 179ms/step - loss: 1.7972 - accuracy: 0.3620 - val_loss: 1.7311 - val_accuracy: 0.3753\n",
            "Epoch 12/30\n",
            "50/50 [==============================] - 9s 175ms/step - loss: 1.7826 - accuracy: 0.3652 - val_loss: 1.6898 - val_accuracy: 0.4043\n",
            "Epoch 13/30\n",
            "50/50 [==============================] - 9s 173ms/step - loss: 1.7577 - accuracy: 0.3759 - val_loss: 1.6692 - val_accuracy: 0.4155\n",
            "Epoch 14/30\n",
            "50/50 [==============================] - 9s 173ms/step - loss: 1.7300 - accuracy: 0.3885 - val_loss: 1.6379 - val_accuracy: 0.4208\n",
            "Epoch 15/30\n",
            "50/50 [==============================] - 9s 177ms/step - loss: 1.7133 - accuracy: 0.3923 - val_loss: 1.6225 - val_accuracy: 0.4223\n",
            "Epoch 16/30\n",
            "50/50 [==============================] - 9s 172ms/step - loss: 1.6989 - accuracy: 0.3970 - val_loss: 1.6655 - val_accuracy: 0.4074\n",
            "Epoch 17/30\n",
            "50/50 [==============================] - 9s 175ms/step - loss: 1.6708 - accuracy: 0.4116 - val_loss: 1.5923 - val_accuracy: 0.4362\n",
            "Epoch 18/30\n",
            "50/50 [==============================] - 9s 178ms/step - loss: 1.6811 - accuracy: 0.4076 - val_loss: 1.6380 - val_accuracy: 0.4156\n",
            "Epoch 19/30\n",
            "50/50 [==============================] - 9s 178ms/step - loss: 1.6429 - accuracy: 0.4205 - val_loss: 1.5806 - val_accuracy: 0.4376\n",
            "Epoch 20/30\n",
            "50/50 [==============================] - 9s 176ms/step - loss: 1.6437 - accuracy: 0.4224 - val_loss: 1.5330 - val_accuracy: 0.4648\n",
            "Epoch 21/30\n",
            "50/50 [==============================] - 9s 175ms/step - loss: 1.6117 - accuracy: 0.4342 - val_loss: 1.5449 - val_accuracy: 0.4516\n",
            "Epoch 22/30\n",
            "50/50 [==============================] - 9s 173ms/step - loss: 1.5998 - accuracy: 0.4407 - val_loss: 1.5144 - val_accuracy: 0.4672\n",
            "Epoch 23/30\n",
            "50/50 [==============================] - 9s 175ms/step - loss: 1.5913 - accuracy: 0.4436 - val_loss: 1.5595 - val_accuracy: 0.4510\n",
            "Epoch 24/30\n",
            "50/50 [==============================] - 9s 175ms/step - loss: 1.5736 - accuracy: 0.4487 - val_loss: 1.5388 - val_accuracy: 0.4524\n",
            "Epoch 25/30\n",
            "50/50 [==============================] - 9s 174ms/step - loss: 1.5620 - accuracy: 0.4537 - val_loss: 1.4699 - val_accuracy: 0.4871\n",
            "Epoch 26/30\n",
            "50/50 [==============================] - 9s 177ms/step - loss: 1.5332 - accuracy: 0.4632 - val_loss: 1.4754 - val_accuracy: 0.4801\n",
            "Epoch 27/30\n",
            "50/50 [==============================] - 9s 182ms/step - loss: 1.5223 - accuracy: 0.4685 - val_loss: 1.4404 - val_accuracy: 0.4925\n",
            "Epoch 28/30\n",
            "50/50 [==============================] - 9s 178ms/step - loss: 1.5058 - accuracy: 0.4756 - val_loss: 1.4574 - val_accuracy: 0.4860\n",
            "Epoch 29/30\n",
            "50/50 [==============================] - 9s 180ms/step - loss: 1.4925 - accuracy: 0.4784 - val_loss: 1.4055 - val_accuracy: 0.5083\n",
            "Epoch 30/30\n",
            "50/50 [==============================] - 9s 174ms/step - loss: 1.4729 - accuracy: 0.4901 - val_loss: 1.4550 - val_accuracy: 0.4918\n"
          ],
          "name": "stdout"
        }
      ]
    },
    {
      "cell_type": "markdown",
      "metadata": {
        "id": "VYgTG2p9Imm7",
        "colab_type": "text"
      },
      "source": [
        "# Classification Diagnostic Learning Curves"
      ]
    },
    {
      "cell_type": "code",
      "metadata": {
        "colab_type": "code",
        "outputId": "cf86eb3f-8674-44e1-9bd6-fe50be6f00ea",
        "id": "z9bI2QYuIkpr",
        "colab": {
          "base_uri": "https://localhost:8080/",
          "height": 584
        }
      },
      "source": [
        "fig = plt.figure(figsize=(38, 9))\n",
        "\n",
        "fig.add_subplot(1,4,1)\n",
        "plt.title(\"Fidelity\")\n",
        "plt.plot(total_loss, label=\"Training Image Loss\")\n",
        "if not (LOAD_CLASSIFICATION_MODEL):\n",
        "  plt.plot(total_val_loss, label=\"Testing Image Loss\")\n",
        "plt.xlabel('Epoch')\n",
        "plt.ylabel('Loss')\n",
        "plt.legend()\n",
        "\n",
        "fig.add_subplot(1,4,2)\n",
        "plt.title(\"Smoothed\")\n",
        "plt.plot(gaussian_filter1d(total_loss, sigma=2), label=\"Training Image Loss\")\n",
        "if not (LOAD_CLASSIFICATION_MODEL):\n",
        "  plt.plot(gaussian_filter1d(total_val_loss, sigma=2), label=\"Testing Image Loss\")\n",
        "plt.xlabel('Epoch')\n",
        "plt.ylabel('Loss')\n",
        "plt.legend()\n",
        "\n",
        "fig.add_subplot(1,4,3)\n",
        "plt.title(\"Fidelity\")\n",
        "plt.plot(total_accuracy, label=\"Training Image Accuracy\")\n",
        "if not (LOAD_CLASSIFICATION_MODEL):\n",
        "  plt.plot(total_val_accuracy, label=\"Testing Image Accuracy\")\n",
        "plt.xlabel('Epoch')\n",
        "plt.ylabel('Accuracy')\n",
        "plt.legend()\n",
        "\n",
        "fig.add_subplot(1,4,4)\n",
        "plt.title(\"Smoothed\")\n",
        "plt.plot(gaussian_filter1d(total_accuracy, sigma=2), label=\"Training Image Accuracy\")\n",
        "if not (LOAD_CLASSIFICATION_MODEL):\n",
        "  plt.plot(gaussian_filter1d(total_val_accuracy, sigma=2), label=\"Testing Image Accuracy\")\n",
        "plt.xlabel('Epoch')\n",
        "plt.ylabel('Accuracy')\n",
        "plt.legend()"
      ],
      "execution_count": 26,
      "outputs": [
        {
          "output_type": "execute_result",
          "data": {
            "text/plain": [
              "<matplotlib.legend.Legend at 0x7f2e344f9048>"
            ]
          },
          "metadata": {
            "tags": []
          },
          "execution_count": 26
        },
        {
          "output_type": "display_data",
          "data": {
            "image/png": "[encoded data removed]",
            "text/plain": [
              "<Figure size 2736x648 with 4 Axes>"
            ]
          },
          "metadata": {
            "tags": []
          }
        }
      ]
    },
    {
      "cell_type": "markdown",
      "metadata": {
        "id": "MTQBW1inUbVy",
        "colab_type": "text"
      },
      "source": [
        "# Classification Results"
      ]
    },
    {
      "cell_type": "code",
      "metadata": {
        "id": "Ym93lYrLUfSe",
        "colab_type": "code",
        "outputId": "aca22f9f-7c17-499e-8b67-3ff179dcc545",
        "colab": {
          "base_uri": "https://localhost:8080/",
          "height": 217
        }
      },
      "source": [
        "image_labels = [\"airplane\", \"automobile\", \"bird\", \"cat\", \"deer\", \"dog\", \"frog\", \"horse\", \"ship\", \"truck\"]\n",
        "\n",
        "output_count = 12\n",
        "\n",
        "fig = plt.figure(figsize=(39,39))\n",
        "for i in range(output_count):\n",
        "  result = model.predict_classes(tf.expand_dims(test_gray_images[i], 0))\n",
        "  fig.add_subplot(1,output_count,i+1)\n",
        "  plt.title(image_labels[int(result)])\n",
        "  plt.imshow(tf.image.grayscale_to_rgb(test_gray_images[i]))"
      ],
      "execution_count": 28,
      "outputs": [
        {
          "output_type": "display_data",
          "data": {
            "image/png": "[encoded data removed]",
            "text/plain": [
              "<Figure size 2808x2808 with 12 Axes>"
            ]
          },
          "metadata": {
            "tags": []
          }
        }
      ]
    },
    {
      "cell_type": "markdown",
      "metadata": {
        "id": "FJvz9yQW1dm6",
        "colab_type": "text"
      },
      "source": [
        "# Convert Colourisation Images to YUV"
      ]
    },
    {
      "cell_type": "code",
      "metadata": {
        "id": "bq6UIAUp1fQz",
        "colab_type": "code",
        "colab": {}
      },
      "source": [
        "# Outputs a tensor of the same shape as the images tensor, containing the YUV \n",
        "# value of the pixels. The output is only well defined if the value in images \n",
        "# are in [0,1].\n",
        "#https://zhengtq.github.io/2018/12/27/tensorflow-disturb-yuv/\n",
        "\n",
        "train_yuvImages = tf.image.rgb_to_yuv(train_images[:IMAGE_COUNT])\n",
        "train_y = tf.expand_dims(train_yuvImages[:,:,:,0], 3)\n",
        "train_uv = train_yuvImages[:,:,:,1:]\n",
        "\n",
        "test_yuvImages = tf.image.rgb_to_yuv(test_images[:IMAGE_COUNT])\n",
        "test_y = tf.expand_dims(test_yuvImages[:,:,:,0], 3)\n",
        "test_uv = test_yuvImages[:,:,:,1:]"
      ],
      "execution_count": 0,
      "outputs": []
    },
    {
      "cell_type": "markdown",
      "metadata": {
        "id": "d6t50ml5gfVl",
        "colab_type": "text"
      },
      "source": [
        "# Create the Colourisation CNN"
      ]
    },
    {
      "cell_type": "code",
      "metadata": {
        "id": "oNTet4bogkSD",
        "colab_type": "code",
        "outputId": "75500561-06ab-4ef2-f0fe-bc58ce13cccf",
        "colab": {
          "base_uri": "https://localhost:8080/",
          "height": 607
        }
      },
      "source": [
        "# Conv2D(filters (number of output filters)\n",
        "#           - determine parameter number\n",
        "#        kernel_size (size of convolution window)\n",
        "#        activation (activation function to use)\n",
        "#        padding (\"valid\" or \"same\")\n",
        "#        strides (strides of the convolution along the height and width)\n",
        "#           - strides greater than 1 will downsample\n",
        "#        input_shape (only used on the first layer of the model))\n",
        "#\n",
        "# UpSampling2D(size (upsampling factors for rows and columns))\n",
        "\n",
        "#https://github.com/emilwallner/Coloring-greyscale-images\n",
        "\n",
        "# For an odd-sized filter, all the previous layer pixels would be symmetrically \n",
        "# around the output pixel. If you think of convolution as an interpolation from \n",
        "# the given pixels to a center pixel, we cannot interpolate to a center pixel \n",
        "# using an even-sized filter.\n",
        "\n",
        "def create_colourisation_model():\n",
        "  model = models.Sequential()\n",
        "  model.add(layers.Conv2D(64, (3, 3), activation='relu', input_shape=(train_uv.shape[1], train_uv.shape[2], 1)))\n",
        "  model.add(layers.Conv2D(64, (3, 3), activation='relu', padding='same', strides=2))\n",
        "  model.add(layers.Conv2D(128, (3, 3), activation='relu', padding='same'))\n",
        "  model.add(layers.Conv2D(128, (3, 3), activation='relu', padding='same', strides=2))\n",
        "  model.add(layers.Conv2D(256, (3, 3), activation='relu', padding='same'))\n",
        "  model.add(layers.Conv2D(256, (3, 3), activation='relu', padding='same', strides=2))\n",
        "  model.add(layers.Conv2D(128, (3, 3), activation='relu', padding='same'))\n",
        "  model.add(layers.Conv2D(64, (3, 3), activation='relu', padding='same'))\n",
        "  model.add(layers.UpSampling2D((2, 2)))\n",
        "  model.add(layers.Conv2D(32, (3, 3), activation='relu', padding='same'))\n",
        "  model.add(layers.UpSampling2D((2, 2)))\n",
        "  model.add(layers.Conv2D(2, (3, 3), activation='tanh', padding='same'))\n",
        "  model.add(layers.UpSampling2D((2, 2)))\n",
        "  return model\n",
        "\n",
        "create_colourisation_model().summary()"
      ],
      "execution_count": 32,
      "outputs": [
        {
          "output_type": "stream",
          "text": [
            "Model: \"sequential_18\"\n",
            "_________________________________________________________________\n",
            "Layer (type)                 Output Shape              Param #   \n",
            "=================================================================\n",
            "conv2d_112 (Conv2D)          (None, 30, 30, 64)        640       \n",
            "_________________________________________________________________\n",
            "conv2d_113 (Conv2D)          (None, 15, 15, 64)        36928     \n",
            "_________________________________________________________________\n",
            "conv2d_114 (Conv2D)          (None, 15, 15, 128)       73856     \n",
            "_________________________________________________________________\n",
            "conv2d_115 (Conv2D)          (None, 8, 8, 128)         147584    \n",
            "_________________________________________________________________\n",
            "conv2d_116 (Conv2D)          (None, 8, 8, 256)         295168    \n",
            "_________________________________________________________________\n",
            "conv2d_117 (Conv2D)          (None, 4, 4, 256)         590080    \n",
            "_________________________________________________________________\n",
            "conv2d_118 (Conv2D)          (None, 4, 4, 128)         295040    \n",
            "_________________________________________________________________\n",
            "conv2d_119 (Conv2D)          (None, 4, 4, 64)          73792     \n",
            "_________________________________________________________________\n",
            "up_sampling2d_3 (UpSampling2 (None, 8, 8, 64)          0         \n",
            "_________________________________________________________________\n",
            "conv2d_120 (Conv2D)          (None, 8, 8, 32)          18464     \n",
            "_________________________________________________________________\n",
            "up_sampling2d_4 (UpSampling2 (None, 16, 16, 32)        0         \n",
            "_________________________________________________________________\n",
            "conv2d_121 (Conv2D)          (None, 16, 16, 2)         578       \n",
            "_________________________________________________________________\n",
            "up_sampling2d_5 (UpSampling2 (None, 32, 32, 2)         0         \n",
            "=================================================================\n",
            "Total params: 1,532,130\n",
            "Trainable params: 1,532,130\n",
            "Non-trainable params: 0\n",
            "_________________________________________________________________\n"
          ],
          "name": "stdout"
        }
      ]
    },
    {
      "cell_type": "markdown",
      "metadata": {
        "id": "XNez8Zy8h2YL",
        "colab_type": "text"
      },
      "source": [
        "\n",
        "# Train the Colourisation Model"
      ]
    },
    {
      "cell_type": "code",
      "metadata": {
        "id": "LlwqYkNDh4cy",
        "colab_type": "code",
        "outputId": "beffd46e-4781-4c6e-92b2-571d31688886",
        "colab": {
          "base_uri": "https://localhost:8080/",
          "height": 1000
        }
      },
      "source": [
        "# fit(x (input data)\n",
        "#     y (target data)\n",
        "#     batch_size (samples per gradient update)\n",
        "#        - smaller batch size = more stochastic\n",
        "#     epochs (epochs to train the model))\n",
        "\n",
        "#https://stackoverflow.com/questions/47200146/keras-load-images-batch-wise-for-large-dataset\n",
        "\n",
        "def train_image_loader(x_train, y_train, batch_size):\n",
        "  datagen = ImageDataGenerator(horizontal_flip=True, rotation_range=45, width_shift_range=0.1, brightness_range=(0.8, 1.0), zoom_range=[0.5, 1.5])\n",
        "  datagen.fit(x_train)\n",
        "  # Keras needs the generator to loop infinitely\n",
        "  while True:\n",
        "    for x_batch, y_batch in datagen.flow(x_train, y_train, batch_size=batch_size):\n",
        "      print(\"\\ncount: \", count, \" - x_batch.shape: \", x_batch.shape, \" - y_batch.shape: \", y_batch.shape)\n",
        "      yield (x_batch, y_batch)  \n",
        "\n",
        "def test_image_loader(x_test, y_test, batch_size):\n",
        "  datagen = ImageDataGenerator()\n",
        "  # Keras needs the generator to loop infinitely\n",
        "  while True:\n",
        "    for x_batch, y_batch in datagen.flow(x_test, y_test, batch_size=batch_size):\n",
        "      yield (x_batch, y_batch)  \n",
        "\n",
        "model = create_colourisation_model()\n",
        "model.compile(optimizer='rmsprop', loss='mse')\n",
        "checkpoint_dir = os.path.dirname(base_dir + \"colourisation.ckpt\")\n",
        "runtime_epochs = int(COLOURISATION_EPOCHS/4)\n",
        "total_loss = total_val_loss = total_accuracy = total_val_accuracy = []\n",
        "datagen = ImageDataGenerator(width_shift_range=0.1, height_shift_range=0.1, horizontal_flip=True)\n",
        "train_iterator = datagen.flow(train_y, train_uv, batch_size=BATCH_SIZE)\n",
        "\n",
        "if not (LOAD_COLOURISATION_MODEL):\n",
        "  history = model.fit_generator(train_iterator, steps_per_epoch=int(train_yuvImages.shape[0]/BATCH_SIZE), epochs=runtime_epochs, validation_data=(test_y, test_uv), validation_steps=int(test_yuvImages.shape[0]/BATCH_SIZE))\n",
        "  # history = model.fit_generator(train_image_loader(train_y, train_uv, BATCH_SIZE), steps_per_epoch=int(train_yuvImages.shape[0]/BATCH_SIZE), epochs=runtime_epochs, validation_data=(test_image_loader(test_y, test_uv, BATCH_SIZE)), validation_steps=int(test_yuvImages.shape[0]/BATCH_SIZE))\n",
        "  model.save_weights(checkpoint_dir)\n",
        "  total_loss += history.history[\"loss\"]\n",
        "  total_val_loss += history.history[\"val_loss\"]"
      ],
      "execution_count": 36,
      "outputs": [
        {
          "output_type": "stream",
          "text": [
            "Epoch 1/25\n",
            "50/50 [==============================] - 10s 200ms/step - loss: 0.0179 - val_loss: 0.0036\n",
            "Epoch 2/25\n",
            "50/50 [==============================] - 10s 194ms/step - loss: 0.0036 - val_loss: 0.0036\n",
            "Epoch 3/25\n",
            "50/50 [==============================] - 10s 197ms/step - loss: 0.0036 - val_loss: 0.0035\n",
            "Epoch 4/25\n",
            "50/50 [==============================] - 10s 196ms/step - loss: 0.0036 - val_loss: 0.0035\n",
            "Epoch 5/25\n",
            "50/50 [==============================] - 10s 194ms/step - loss: 0.0035 - val_loss: 0.0035\n",
            "Epoch 6/25\n",
            "50/50 [==============================] - 10s 194ms/step - loss: 0.0035 - val_loss: 0.0035\n",
            "Epoch 7/25\n",
            "50/50 [==============================] - 10s 194ms/step - loss: 0.0034 - val_loss: 0.0034\n",
            "Epoch 8/25\n",
            "50/50 [==============================] - 10s 194ms/step - loss: 0.0034 - val_loss: 0.0035\n",
            "Epoch 9/25\n",
            "50/50 [==============================] - 10s 194ms/step - loss: 0.0034 - val_loss: 0.0035\n",
            "Epoch 10/25\n",
            "50/50 [==============================] - 10s 192ms/step - loss: 0.0034 - val_loss: 0.0033\n",
            "Epoch 11/25\n",
            "50/50 [==============================] - 10s 193ms/step - loss: 0.0034 - val_loss: 0.0033\n",
            "Epoch 12/25\n",
            "50/50 [==============================] - 10s 192ms/step - loss: 0.0033 - val_loss: 0.0033\n",
            "Epoch 13/25\n",
            "50/50 [==============================] - 10s 194ms/step - loss: 0.0033 - val_loss: 0.0033\n",
            "Epoch 14/25\n",
            "50/50 [==============================] - 10s 193ms/step - loss: 0.0033 - val_loss: 0.0032\n",
            "Epoch 15/25\n",
            "50/50 [==============================] - 10s 195ms/step - loss: 0.0033 - val_loss: 0.0032\n",
            "Epoch 16/25\n",
            "50/50 [==============================] - 10s 196ms/step - loss: 0.0033 - val_loss: 0.0033\n",
            "Epoch 17/25\n",
            "50/50 [==============================] - 10s 194ms/step - loss: 0.0032 - val_loss: 0.0031\n",
            "Epoch 18/25\n",
            "50/50 [==============================] - 10s 194ms/step - loss: 0.0032 - val_loss: 0.0032\n",
            "Epoch 19/25\n",
            "50/50 [==============================] - 10s 193ms/step - loss: 0.0032 - val_loss: 0.0032\n",
            "Epoch 20/25\n",
            "50/50 [==============================] - 10s 196ms/step - loss: 0.0032 - val_loss: 0.0032\n",
            "Epoch 21/25\n",
            "50/50 [==============================] - 10s 194ms/step - loss: 0.0032 - val_loss: 0.0031\n",
            "Epoch 22/25\n",
            "50/50 [==============================] - 10s 191ms/step - loss: 0.0032 - val_loss: 0.0035\n",
            "Epoch 23/25\n",
            "50/50 [==============================] - 10s 191ms/step - loss: 0.0032 - val_loss: 0.0031\n",
            "Epoch 24/25\n",
            "50/50 [==============================] - 10s 196ms/step - loss: 0.0031 - val_loss: 0.0031\n",
            "Epoch 25/25\n",
            "50/50 [==============================] - 10s 197ms/step - loss: 0.0031 - val_loss: 0.0031\n"
          ],
          "name": "stdout"
        },
        {
          "output_type": "error",
          "ename": "KeyError",
          "evalue": "ignored",
          "traceback": [
            "\u001b[0;31m---------------------------------------------------------------------------\u001b[0m",
            "\u001b[0;31mKeyError\u001b[0m                                  Traceback (most recent call last)",
            "\u001b[0;32m<ipython-input-36-b7023cc5afa7>\u001b[0m in \u001b[0;36m<module>\u001b[0;34m()\u001b[0m\n\u001b[1;32m     33\u001b[0m   \u001b[0mtotal_loss\u001b[0m \u001b[0;34m+=\u001b[0m \u001b[0mhistory\u001b[0m\u001b[0;34m.\u001b[0m\u001b[0mhistory\u001b[0m\u001b[0;34m[\u001b[0m\u001b[0;34m\"loss\"\u001b[0m\u001b[0;34m]\u001b[0m\u001b[0;34m\u001b[0m\u001b[0;34m\u001b[0m\u001b[0m\n\u001b[1;32m     34\u001b[0m   \u001b[0mtotal_val_loss\u001b[0m \u001b[0;34m+=\u001b[0m \u001b[0mhistory\u001b[0m\u001b[0;34m.\u001b[0m\u001b[0mhistory\u001b[0m\u001b[0;34m[\u001b[0m\u001b[0;34m\"val_loss\"\u001b[0m\u001b[0;34m]\u001b[0m\u001b[0;34m\u001b[0m\u001b[0;34m\u001b[0m\u001b[0m\n\u001b[0;32m---> 35\u001b[0;31m   \u001b[0mtotal_accuracy\u001b[0m \u001b[0;34m+=\u001b[0m \u001b[0mhistory\u001b[0m\u001b[0;34m.\u001b[0m\u001b[0mhistory\u001b[0m\u001b[0;34m[\u001b[0m\u001b[0;34m\"accuracy\"\u001b[0m\u001b[0;34m]\u001b[0m\u001b[0;34m\u001b[0m\u001b[0;34m\u001b[0m\u001b[0m\n\u001b[0m\u001b[1;32m     36\u001b[0m   \u001b[0mtotal_val_accuracy\u001b[0m \u001b[0;34m+=\u001b[0m \u001b[0mhistory\u001b[0m\u001b[0;34m.\u001b[0m\u001b[0mhistory\u001b[0m\u001b[0;34m[\u001b[0m\u001b[0;34m\"val_accuracy\"\u001b[0m\u001b[0;34m]\u001b[0m\u001b[0;34m\u001b[0m\u001b[0;34m\u001b[0m\u001b[0m\n",
            "\u001b[0;31mKeyError\u001b[0m: 'accuracy'"
          ]
        }
      ]
    },
    {
      "cell_type": "code",
      "metadata": {
        "id": "v3OLa6Ojprhe",
        "colab_type": "code",
        "colab": {
          "base_uri": "https://localhost:8080/",
          "height": 885
        },
        "outputId": "e76b554a-32e9-4635-d6f3-9d56a799bf31"
      },
      "source": [
        "if not (LOAD_COLOURISATION_MODEL):\n",
        "  history = model.fit_generator(train_iterator, steps_per_epoch=int(train_yuvImages.shape[0]/BATCH_SIZE), epochs=runtime_epochs, validation_data=(test_y, test_uv), validation_steps=int(test_yuvImages.shape[0]/BATCH_SIZE))\n",
        "  # history = model.fit_generator(train_image_loader(train_y, train_uv, BATCH_SIZE), steps_per_epoch=int(train_yuvImages.shape[0]/BATCH_SIZE), epochs=runtime_epochs, validation_data=(test_image_loader(test_y, test_uv, BATCH_SIZE)), validation_steps=int(test_yuvImages.shape[0]/BATCH_SIZE))\n",
        "  total_loss += history.history[\"loss\"]\n",
        "  total_val_loss += history.history[\"val_loss\"]"
      ],
      "execution_count": 37,
      "outputs": [
        {
          "output_type": "stream",
          "text": [
            "Epoch 1/25\n",
            "50/50 [==============================] - 10s 199ms/step - loss: 0.0031 - val_loss: 0.0030\n",
            "Epoch 2/25\n",
            "50/50 [==============================] - 10s 192ms/step - loss: 0.0031 - val_loss: 0.0030\n",
            "Epoch 3/25\n",
            "50/50 [==============================] - 10s 192ms/step - loss: 0.0031 - val_loss: 0.0030\n",
            "Epoch 4/25\n",
            "50/50 [==============================] - 10s 195ms/step - loss: 0.0031 - val_loss: 0.0030\n",
            "Epoch 5/25\n",
            "50/50 [==============================] - 10s 190ms/step - loss: 0.0031 - val_loss: 0.0031\n",
            "Epoch 6/25\n",
            "50/50 [==============================] - 10s 192ms/step - loss: 0.0031 - val_loss: 0.0031\n",
            "Epoch 7/25\n",
            "50/50 [==============================] - 10s 194ms/step - loss: 0.0031 - val_loss: 0.0030\n",
            "Epoch 8/25\n",
            "50/50 [==============================] - 10s 196ms/step - loss: 0.0030 - val_loss: 0.0030\n",
            "Epoch 9/25\n",
            "50/50 [==============================] - 10s 191ms/step - loss: 0.0030 - val_loss: 0.0030\n",
            "Epoch 10/25\n",
            "50/50 [==============================] - 10s 195ms/step - loss: 0.0030 - val_loss: 0.0031\n",
            "Epoch 11/25\n",
            "50/50 [==============================] - 9s 190ms/step - loss: 0.0030 - val_loss: 0.0030\n",
            "Epoch 12/25\n",
            "50/50 [==============================] - 10s 195ms/step - loss: 0.0030 - val_loss: 0.0030\n",
            "Epoch 13/25\n",
            "50/50 [==============================] - 9s 190ms/step - loss: 0.0030 - val_loss: 0.0030\n",
            "Epoch 14/25\n",
            "50/50 [==============================] - 10s 195ms/step - loss: 0.0030 - val_loss: 0.0030\n",
            "Epoch 15/25\n",
            "50/50 [==============================] - 10s 191ms/step - loss: 0.0030 - val_loss: 0.0030\n",
            "Epoch 16/25\n",
            "50/50 [==============================] - 10s 193ms/step - loss: 0.0030 - val_loss: 0.0030\n",
            "Epoch 17/25\n",
            "50/50 [==============================] - 10s 192ms/step - loss: 0.0030 - val_loss: 0.0030\n",
            "Epoch 18/25\n",
            "50/50 [==============================] - 10s 193ms/step - loss: 0.0030 - val_loss: 0.0031\n",
            "Epoch 19/25\n",
            "50/50 [==============================] - 10s 194ms/step - loss: 0.0030 - val_loss: 0.0030\n",
            "Epoch 20/25\n",
            "50/50 [==============================] - 9s 189ms/step - loss: 0.0029 - val_loss: 0.0030\n",
            "Epoch 21/25\n",
            "50/50 [==============================] - 10s 192ms/step - loss: 0.0029 - val_loss: 0.0030\n",
            "Epoch 22/25\n",
            "50/50 [==============================] - 10s 190ms/step - loss: 0.0029 - val_loss: 0.0030\n",
            "Epoch 23/25\n",
            "50/50 [==============================] - 10s 198ms/step - loss: 0.0029 - val_loss: 0.0029\n",
            "Epoch 24/25\n",
            "50/50 [==============================] - 10s 192ms/step - loss: 0.0029 - val_loss: 0.0030\n",
            "Epoch 25/25\n",
            "50/50 [==============================] - 10s 195ms/step - loss: 0.0029 - val_loss: 0.0030\n"
          ],
          "name": "stdout"
        }
      ]
    },
    {
      "cell_type": "code",
      "metadata": {
        "id": "xT_niziDpsU2",
        "colab_type": "code",
        "colab": {
          "base_uri": "https://localhost:8080/",
          "height": 885
        },
        "outputId": "b3ad0fff-e4f6-49f5-b508-c7e783dd253f"
      },
      "source": [
        "if not (LOAD_COLOURISATION_MODEL):\n",
        "  history = model.fit_generator(train_iterator, steps_per_epoch=int(train_yuvImages.shape[0]/BATCH_SIZE), epochs=runtime_epochs, validation_data=(test_y, test_uv), validation_steps=int(test_yuvImages.shape[0]/BATCH_SIZE))\n",
        "  # history = model.fit_generator(train_image_loader(train_y, train_uv, BATCH_SIZE), steps_per_epoch=int(train_yuvImages.shape[0]/BATCH_SIZE), epochs=runtime_epochs, validation_data=(test_image_loader(test_y, test_uv, BATCH_SIZE)), validation_steps=int(test_yuvImages.shape[0]/BATCH_SIZE))\n",
        "  total_loss += history.history[\"loss\"]\n",
        "  total_val_loss += history.history[\"val_loss\"]"
      ],
      "execution_count": 38,
      "outputs": [
        {
          "output_type": "stream",
          "text": [
            "Epoch 1/25\n",
            "50/50 [==============================] - 10s 196ms/step - loss: 0.0029 - val_loss: 0.0030\n",
            "Epoch 2/25\n",
            "50/50 [==============================] - 9s 189ms/step - loss: 0.0029 - val_loss: 0.0029\n",
            "Epoch 3/25\n",
            "50/50 [==============================] - 10s 202ms/step - loss: 0.0029 - val_loss: 0.0029\n",
            "Epoch 4/25\n",
            "50/50 [==============================] - 10s 194ms/step - loss: 0.0029 - val_loss: 0.0030\n",
            "Epoch 5/25\n",
            "50/50 [==============================] - 10s 196ms/step - loss: 0.0029 - val_loss: 0.0030\n",
            "Epoch 6/25\n",
            "50/50 [==============================] - 10s 193ms/step - loss: 0.0029 - val_loss: 0.0030\n",
            "Epoch 7/25\n",
            "50/50 [==============================] - 10s 198ms/step - loss: 0.0028 - val_loss: 0.0031\n",
            "Epoch 8/25\n",
            "50/50 [==============================] - 10s 198ms/step - loss: 0.0028 - val_loss: 0.0030\n",
            "Epoch 9/25\n",
            "50/50 [==============================] - 10s 195ms/step - loss: 0.0028 - val_loss: 0.0029\n",
            "Epoch 10/25\n",
            "50/50 [==============================] - 10s 193ms/step - loss: 0.0028 - val_loss: 0.0031\n",
            "Epoch 11/25\n",
            "50/50 [==============================] - 10s 197ms/step - loss: 0.0028 - val_loss: 0.0030\n",
            "Epoch 12/25\n",
            "50/50 [==============================] - 10s 193ms/step - loss: 0.0028 - val_loss: 0.0030\n",
            "Epoch 13/25\n",
            "50/50 [==============================] - 10s 196ms/step - loss: 0.0028 - val_loss: 0.0031\n",
            "Epoch 14/25\n",
            "50/50 [==============================] - 10s 197ms/step - loss: 0.0028 - val_loss: 0.0030\n",
            "Epoch 15/25\n",
            "50/50 [==============================] - 10s 195ms/step - loss: 0.0028 - val_loss: 0.0030\n",
            "Epoch 16/25\n",
            "50/50 [==============================] - 10s 194ms/step - loss: 0.0028 - val_loss: 0.0031\n",
            "Epoch 17/25\n",
            "50/50 [==============================] - 10s 196ms/step - loss: 0.0028 - val_loss: 0.0029\n",
            "Epoch 18/25\n",
            "50/50 [==============================] - 10s 195ms/step - loss: 0.0028 - val_loss: 0.0030\n",
            "Epoch 19/25\n",
            "50/50 [==============================] - 10s 193ms/step - loss: 0.0028 - val_loss: 0.0030\n",
            "Epoch 20/25\n",
            "50/50 [==============================] - 10s 198ms/step - loss: 0.0027 - val_loss: 0.0030\n",
            "Epoch 21/25\n",
            "50/50 [==============================] - 10s 193ms/step - loss: 0.0027 - val_loss: 0.0030\n",
            "Epoch 22/25\n",
            "50/50 [==============================] - 10s 195ms/step - loss: 0.0027 - val_loss: 0.0030\n",
            "Epoch 23/25\n",
            "50/50 [==============================] - 10s 194ms/step - loss: 0.0027 - val_loss: 0.0030\n",
            "Epoch 24/25\n",
            "50/50 [==============================] - 10s 192ms/step - loss: 0.0027 - val_loss: 0.0030\n",
            "Epoch 25/25\n",
            "50/50 [==============================] - 9s 189ms/step - loss: 0.0027 - val_loss: 0.0030\n"
          ],
          "name": "stdout"
        }
      ]
    },
    {
      "cell_type": "code",
      "metadata": {
        "id": "S5zQyoRxpxze",
        "colab_type": "code",
        "colab": {
          "base_uri": "https://localhost:8080/",
          "height": 885
        },
        "outputId": "4047ff63-9f0e-43b7-ea70-304c1c3c5bfb"
      },
      "source": [
        "if not (LOAD_COLOURISATION_MODEL):\n",
        "  history = model.fit_generator(train_iterator, steps_per_epoch=int(train_yuvImages.shape[0]/BATCH_SIZE), epochs=runtime_epochs, validation_data=(test_y, test_uv), validation_steps=int(test_yuvImages.shape[0]/BATCH_SIZE))\n",
        "  # history = model.fit_generator(train_image_loader(train_y, train_uv, BATCH_SIZE), steps_per_epoch=int(train_yuvImages.shape[0]/BATCH_SIZE), epochs=runtime_epochs, validation_data=(test_image_loader(test_y, test_uv, BATCH_SIZE)), validation_steps=int(test_yuvImages.shape[0]/BATCH_SIZE))\n",
        "  total_loss += history.history[\"loss\"]\n",
        "  total_val_loss += history.history[\"val_loss\"]"
      ],
      "execution_count": 39,
      "outputs": [
        {
          "output_type": "stream",
          "text": [
            "Epoch 1/25\n",
            "50/50 [==============================] - 10s 199ms/step - loss: 0.0027 - val_loss: 0.0030\n",
            "Epoch 2/25\n",
            "50/50 [==============================] - 10s 191ms/step - loss: 0.0027 - val_loss: 0.0030\n",
            "Epoch 3/25\n",
            "50/50 [==============================] - 10s 191ms/step - loss: 0.0027 - val_loss: 0.0031\n",
            "Epoch 4/25\n",
            "50/50 [==============================] - 10s 195ms/step - loss: 0.0027 - val_loss: 0.0029\n",
            "Epoch 5/25\n",
            "50/50 [==============================] - 9s 190ms/step - loss: 0.0027 - val_loss: 0.0030\n",
            "Epoch 6/25\n",
            "50/50 [==============================] - 10s 191ms/step - loss: 0.0027 - val_loss: 0.0030\n",
            "Epoch 7/25\n",
            "50/50 [==============================] - 10s 192ms/step - loss: 0.0026 - val_loss: 0.0030\n",
            "Epoch 8/25\n",
            "50/50 [==============================] - 10s 195ms/step - loss: 0.0026 - val_loss: 0.0030\n",
            "Epoch 9/25\n",
            "50/50 [==============================] - 9s 189ms/step - loss: 0.0026 - val_loss: 0.0030\n",
            "Epoch 10/25\n",
            "50/50 [==============================] - 10s 199ms/step - loss: 0.0026 - val_loss: 0.0030\n",
            "Epoch 11/25\n",
            "50/50 [==============================] - 10s 190ms/step - loss: 0.0026 - val_loss: 0.0030\n",
            "Epoch 12/25\n",
            "50/50 [==============================] - 10s 190ms/step - loss: 0.0026 - val_loss: 0.0030\n",
            "Epoch 13/25\n",
            "50/50 [==============================] - 10s 190ms/step - loss: 0.0026 - val_loss: 0.0030\n",
            "Epoch 14/25\n",
            "50/50 [==============================] - 9s 189ms/step - loss: 0.0026 - val_loss: 0.0030\n",
            "Epoch 15/25\n",
            "50/50 [==============================] - 9s 189ms/step - loss: 0.0026 - val_loss: 0.0030\n",
            "Epoch 16/25\n",
            "50/50 [==============================] - 10s 195ms/step - loss: 0.0026 - val_loss: 0.0031\n",
            "Epoch 17/25\n",
            "50/50 [==============================] - 10s 195ms/step - loss: 0.0026 - val_loss: 0.0030\n",
            "Epoch 18/25\n",
            "50/50 [==============================] - 9s 189ms/step - loss: 0.0026 - val_loss: 0.0030\n",
            "Epoch 19/25\n",
            "50/50 [==============================] - 10s 192ms/step - loss: 0.0026 - val_loss: 0.0030\n",
            "Epoch 20/25\n",
            "50/50 [==============================] - 10s 194ms/step - loss: 0.0026 - val_loss: 0.0030\n",
            "Epoch 21/25\n",
            "50/50 [==============================] - 10s 191ms/step - loss: 0.0025 - val_loss: 0.0031\n",
            "Epoch 22/25\n",
            "50/50 [==============================] - 10s 191ms/step - loss: 0.0025 - val_loss: 0.0030\n",
            "Epoch 23/25\n",
            "50/50 [==============================] - 10s 193ms/step - loss: 0.0025 - val_loss: 0.0030\n",
            "Epoch 24/25\n",
            "50/50 [==============================] - 10s 192ms/step - loss: 0.0025 - val_loss: 0.0030\n",
            "Epoch 25/25\n",
            "50/50 [==============================] - 9s 189ms/step - loss: 0.0025 - val_loss: 0.0030\n"
          ],
          "name": "stdout"
        }
      ]
    },
    {
      "cell_type": "code",
      "metadata": {
        "id": "JxrwjYWuxrqN",
        "colab_type": "code",
        "colab": {}
      },
      "source": [
        "if(LOAD_COLOURISATION_MODEL):\n",
        "  model.load_weights(checkpoint_dir)\n",
        "  total_loss, total_accuracy = model.evaluate(test_gray_images, utils.to_categorical(test_labels), verbose=2)\n",
        "  total_loss = np.array(total_loss)\n",
        "  total_accuracy = np.array(total_accuracy)"
      ],
      "execution_count": 0,
      "outputs": []
    },
    {
      "cell_type": "markdown",
      "metadata": {
        "id": "k2gH7HJlyFN2",
        "colab_type": "text"
      },
      "source": [
        "# Colourisation Diagnostic Learning Curves"
      ]
    },
    {
      "cell_type": "code",
      "metadata": {
        "id": "deky44aKxgRs",
        "colab_type": "code",
        "outputId": "5be216f0-83d1-422e-e8eb-01df026aa544",
        "colab": {
          "base_uri": "https://localhost:8080/",
          "height": 133
        }
      },
      "source": [
        "fig = plt.figure(figsize=(18, 9))\n",
        "\n",
        "fig.add_subplot(1,2,1)\n",
        "plt.title(\"Fidelity\")\n",
        "plt.plot(total_loss[1:], label=\"Training Image Loss\")\n",
        "if(!LOAD_COLOURISATION_MODEL):\n",
        "  plt.plot(total_val_loss[1:], label=\"Testing Image Loss\")\n",
        "plt.xlabel('Epoch')\n",
        "plt.ylabel('Loss')\n",
        "plt.legend()\n",
        "\n",
        "fig.add_subplot(1,2,2)\n",
        "plt.title(\"Smoothed\")\n",
        "plt.plot(gaussian_filter1d(total_loss[1:], sigma=2), label=\"Training Image Loss\")\n",
        "if(!LOAD_COLOURISATION_MODEL):\n",
        "  plt.plot(gaussian_filter1d(total_val_loss[1:], sigma=2), label=\"Testing Image Loss\")\n",
        "plt.xlabel('Epoch')\n",
        "plt.ylabel('Loss')\n",
        "plt.legend()\n",
        "\n",
        "fig = plt.figure(figsize=(18, 9))\n",
        "\n",
        "fig.add_subplot(1,2,1)\n",
        "plt.title(\"Fidelity\")\n",
        "plt.plot(total_accuracy[1:], label=\"Training Image Accuracy\")\n",
        "if(!LOAD_COLOURISATION_MODEL):\n",
        "  plt.plot(total_val_accuracy[1:], label=\"Testing Image Accuracy\")\n",
        "plt.xlabel('Epoch')\n",
        "plt.ylabel('Accuracy')\n",
        "plt.legend()\n",
        "\n",
        "fig.add_subplot(1,2,2)\n",
        "plt.title(\"Smoothed Training and Testing Loss over Epochs\")\n",
        "plt.plot(gaussian_filter1d(total_accuracy[1:], sigma=2), label=\"Training Image Accuracy\")\n",
        "if(!LOAD_COLOURISATION_MODEL):\n",
        "  plt.plot(gaussian_filter1d(total_val_accuracy[1:], sigma=2), label=\"Testing Image Accuracy\")\n",
        "plt.xlabel('Epoch')\n",
        "plt.ylabel('Accuracy')\n",
        "plt.legend()"
      ],
      "execution_count": 41,
      "outputs": [
        {
          "output_type": "error",
          "ename": "SyntaxError",
          "evalue": "ignored",
          "traceback": [
            "\u001b[0;36m  File \u001b[0;32m\"<ipython-input-41-ad7c072c500e>\"\u001b[0;36m, line \u001b[0;32m6\u001b[0m\n\u001b[0;31m    if(!LOAD_COLOURISATION_MODEL):\u001b[0m\n\u001b[0m       ^\u001b[0m\n\u001b[0;31mSyntaxError\u001b[0m\u001b[0;31m:\u001b[0m invalid syntax\n"
          ]
        }
      ]
    },
    {
      "cell_type": "markdown",
      "metadata": {
        "id": "9FAnTEgAiNhF",
        "colab_type": "text"
      },
      "source": [
        "# Training Results"
      ]
    },
    {
      "cell_type": "code",
      "metadata": {
        "id": "MhInApd8iOhS",
        "colab_type": "code",
        "colab": {}
      },
      "source": [
        "print(model.evaluate(train_y, train_uv, batch_size=BATCH_SIZE))\n",
        "output = model.predict(train_y)\n",
        "result = np.zeros((IMAGE_COUNT, 32, 32, 3))\n",
        "result[:,:,:,0] = train_y[:,:,:,0]\n",
        "result[:,:,:,1:] = output\n",
        "\n",
        "output_count = 12\n",
        "\n",
        "fig = plt.figure(figsize=(39, 39))\n",
        "for i in range(output_count):\n",
        "  fig.add_subplot(1,output_count,i+1)\n",
        "  plt.title(\"Input\")\n",
        "  plt.imshow(tf.image.grayscale_to_rgb(train_y[TRAINING_IMAGE+i]))\n",
        "\n",
        "fig = plt.figure(figsize=(39, 39))\n",
        "for i in range(output_count):\n",
        "  fig.add_subplot(1,output_count,i+1)\n",
        "  plt.title(\"Original\")\n",
        "  plt.imshow(train_images[TRAINING_IMAGE+i])\n",
        "\n",
        "fig = plt.figure(figsize=(39, 39))\n",
        "for i in range(output_count):\n",
        "  fig.add_subplot(1,output_count,i+1)\n",
        "  plt.title(\"Output\")\n",
        "  plt.imshow(tf.image.yuv_to_rgb(result[TRAINING_IMAGE+i]))\n",
        "  \n",
        "fig = plt.figure(figsize=(39, 39))\n",
        "for i in range(output_count):\n",
        "  fig.add_subplot(1,output_count,i+1)\n",
        "  plt.title(\"U original\")\n",
        "  plt.imshow(train_yuvImages[TRAINING_IMAGE+i,:,:,1])\n",
        "  \n",
        "fig = plt.figure(figsize=(39, 39))\n",
        "for i in range(output_count):\n",
        "  fig.add_subplot(1,output_count,i+1)\n",
        "  plt.title(\"U output\")\n",
        "  plt.imshow(result[TRAINING_IMAGE+i,:,:,1])\n",
        "  \n",
        "fig = plt.figure(figsize=(39, 39))\n",
        "for i in range(output_count):\n",
        "  fig.add_subplot(1,output_count,i+1)\n",
        "  plt.title(\"V original\")\n",
        "  plt.imshow(train_yuvImages[TRAINING_IMAGE+i,:,:,2])\n",
        "  \n",
        "fig = plt.figure(figsize=(39, 39))\n",
        "for i in range(output_count):\n",
        "  fig.add_subplot(1,output_count,i+1)\n",
        "  plt.title(\"V output\")\n",
        "  plt.imshow(result[TRAINING_IMAGE+i,:,:,2])"
      ],
      "execution_count": 0,
      "outputs": []
    },
    {
      "cell_type": "markdown",
      "metadata": {
        "id": "Dz_GGqJkYUpz",
        "colab_type": "text"
      },
      "source": [
        "# Testing Results"
      ]
    },
    {
      "cell_type": "code",
      "metadata": {
        "id": "-2iiVxDblx8f",
        "colab_type": "code",
        "colab": {}
      },
      "source": [
        "print(model.evaluate(test_y, test_uv, batch_size=BATCH_SIZE))\n",
        "output = model.predict(test_y)\n",
        "result = np.zeros((test_yuvImages.shape[0], 32, 32, 3))\n",
        "result[:,:,:,0] = test_y[:,:,:,0]\n",
        "result[:,:,:,1:] = output\n",
        "  \n",
        "output_count = 12\n",
        "\n",
        "fig = plt.figure(figsize=(39, 39))\n",
        "for i in range(output_count):\n",
        "  fig.add_subplot(1,output_count,i+1)\n",
        "  plt.title(\"Input\")\n",
        "  plt.imshow(tf.image.grayscale_to_rgb(test_y[TEST_IMAGE+i]))\n",
        "\n",
        "fig = plt.figure(figsize=(39, 39))\n",
        "for i in range(output_count):\n",
        "  fig.add_subplot(1,output_count,i+1)\n",
        "  plt.title(\"Original\")\n",
        "  plt.imshow(test_images[TEST_IMAGE+i])\n",
        "\n",
        "fig = plt.figure(figsize=(39, 39))\n",
        "for i in range(output_count):\n",
        "  fig.add_subplot(1,output_count,i+1)\n",
        "  plt.title(\"Output\")\n",
        "  plt.imshow(tf.image.yuv_to_rgb(result[TEST_IMAGE+i]))\n",
        "  \n",
        "fig = plt.figure(figsize=(39, 39))\n",
        "for i in range(output_count):\n",
        "  fig.add_subplot(1,output_count,i+1)\n",
        "  plt.title(\"U original\")\n",
        "  plt.imshow(test_yuvImages[TEST_IMAGE+i,:,:,1])\n",
        "  \n",
        "fig = plt.figure(figsize=(39, 39))\n",
        "for i in range(output_count):\n",
        "  fig.add_subplot(1,output_count,i+1)\n",
        "  plt.title(\"U output\")\n",
        "  plt.imshow(result[TEST_IMAGE+i,:,:,1])\n",
        "  \n",
        "fig = plt.figure(figsize=(39, 39))\n",
        "for i in range(output_count):\n",
        "  fig.add_subplot(1,output_count,i+1)\n",
        "  plt.title(\"V original\")\n",
        "  plt.imshow(test_yuvImages[TEST_IMAGE+i,:,:,2])\n",
        "  \n",
        "fig = plt.figure(figsize=(39, 39))\n",
        "for i in range(output_count):\n",
        "  fig.add_subplot(1,output_count,i+1)\n",
        "  plt.title(\"V output\")\n",
        "  plt.imshow(result[TEST_IMAGE+i,:,:,2])"
      ],
      "execution_count": 0,
      "outputs": []
    },
    {
      "cell_type": "markdown",
      "metadata": {
        "id": "bZ5I2o0Rj9GL",
        "colab_type": "text"
      },
      "source": [
        "# Layers activation visualization"
      ]
    },
    {
      "cell_type": "code",
      "metadata": {
        "id": "tH6O_hHuj80_",
        "colab_type": "code",
        "colab": {}
      },
      "source": [
        "#https://github.com/gabrielpierobon/cnnshapes/blob/master/README.md\n",
        "layer_outputs = [layer.output for layer in model.layers[:12]] # Extracts the outputs of the top 12 layers\n",
        "activation_model = models.Model(inputs=model.input, outputs=layer_outputs) # Creates a model that will return these outputs, given the model input\n",
        "activations = activation_model.predict(test_y) # Returns a list of five Numpy arrays: one array per layer activation\n",
        "\n",
        "layer_names = []\n",
        "for layer in model.layers[:12]:\n",
        "  layer_names.append(layer.name) # Names of the layers, so you can have them as part of your plot\n",
        "\n",
        "images_per_row = 9\n",
        "\n",
        "for layer_name, layer_activation in zip(layer_names, activations): # Displays the feature maps\n",
        "  n_features = layer_activation.shape[-1] # Number of features in the feature map\n",
        "  size = layer_activation.shape[1] #The feature map has shape (1, size, size, n_features).\n",
        "  n_cols = n_features // images_per_row # Tiles the activation channels in this matrix\n",
        "  display_grid = np.zeros((size * n_cols, images_per_row * size))\n",
        "  for col in range(n_cols): # Tiles each filter into a big horizontal grid\n",
        "    for row in range(images_per_row):\n",
        "      channel_image = layer_activation[0,:, :,col * images_per_row + row]\n",
        "      channel_image -= channel_image.mean() # Post-processes the feature to make it visually palatable\n",
        "      channel_image /= channel_image.std()\n",
        "      channel_image *= 64\n",
        "      channel_image += 128\n",
        "      channel_image = np.clip(channel_image, 0, 255).astype('uint8')\n",
        "      display_grid[col * size : (col + 1) * size, row * size : (row + 1) * size] = channel_image\n",
        "  scale = 1. / size\n",
        "  plt.figure(figsize=(scale * display_grid.shape[1], scale * display_grid.shape[0]))\n",
        "  plt.title(layer_name)\n",
        "  plt.grid(False)\n",
        "  plt.imshow(display_grid, aspect='auto', cmap='viridis')"
      ],
      "execution_count": 0,
      "outputs": []
    },
    {
      "cell_type": "code",
      "metadata": {
        "id": "9mGYJDOJkLbP",
        "colab_type": "code",
        "colab": {}
      },
      "source": [
        ""
      ],
      "execution_count": 0,
      "outputs": []
    }
  ]
}